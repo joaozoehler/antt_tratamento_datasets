{
 "cells": [
  {
   "cell_type": "markdown",
   "id": "98a4117a",
   "metadata": {},
   "source": [
    "# Manipulação de datasets de dados do transporte rodoviário interestadual e internacional de passageiros do Brasil\n",
    "## Dados disponibilizados pela ANTT (Agência Nacional de Transportes Terrestres)\n",
    "### Página oficial: http://www.antt.gov.br/\n",
    "\n",
    "## O script faz os seguintes passos:\n",
    "* 1) lê cada um dos datasets - 2005 a 2019\n",
    "* 2) verifica o ano de input (2005, 2006, 2007... 2019)\n",
    "* 3) executa o script conforme o ano\n",
    "    * 3.1) cada ano, depois de 2014, possui um esquema de dados distinto, com variações no total de colunas\n",
    "* 4) renomeia todas as colunas através de um padrão estipulado anteriormente\n",
    "* 5) retira o excesso de espaços das colunas\n",
    "* 6) cria colunas em branco quando a coluna não consta no dataset em questão de tal script\n",
    "* 7) exporta __todos__ os datasets em arquivo __csv__ separados por __vírgulas (,)__ e em codificação __utf-8__\n",
    "* 8) ao final, realiza uma comparação se o total de colunas é comum entre todos os datasets (53 colunas)"
   ]
  },
  {
   "cell_type": "markdown",
   "id": "a2cf89e2",
   "metadata": {},
   "source": [
    "# Colunas que devem estar presentes em todos os datasets\n",
    "* ano\n",
    "* codigo\n",
    "* des_localidade_id\n",
    "* des_localidade_nome\n",
    "* des_localidade_uf\n",
    "* des_municipio_id\n",
    "* des_municipio_nome\n",
    "* empresa\n",
    "* empresa_cnpj\n",
    "* empresa_situacao\n",
    "* empresa_tipo\n",
    "* ida_idoso_desconto\n",
    "* ida_idoso_gratis\n",
    "* ida_jovem_desconto\n",
    "* ida_jovem_gratis\n",
    "* ida_pagantes\n",
    "* ida_passelivre\n",
    "* km\n",
    "* km_total\n",
    "* linha\n",
    "* linha_id\n",
    "* lugares_idas\n",
    "* lugares_voltas\n",
    "* mes\n",
    "* ori_des_localidade_nome\n",
    "* ori_localidade_id\n",
    "* ori_localidade_nome\n",
    "* ori_localidade_uf\n",
    "* ori_municipio_id\n",
    "* ori_municipio_nome\n",
    "* pax_gratis_descontos\n",
    "* pax_idoso_desconto\n",
    "* pax_idoso_gratis\n",
    "* pax_jovem_desconto\n",
    "* pax_jovem_gratis\n",
    "* pax_pagantes\n",
    "* pax_passelivre\n",
    "* pax_total\n",
    "* prefixo\n",
    "* secao_id\n",
    "* sequencial\n",
    "* servico_ambito\n",
    "* servico_tipo\n",
    "* sisdap_fim\n",
    "* sisdap_inicio\n",
    "* viagem_idas\n",
    "* viagem_voltas\n",
    "* volta_idoso_desconto\n",
    "* volta_idoso_gratis\n",
    "* volta_jovem_desconto\n",
    "* volta_jovem_gratis\n",
    "* volta_pagantes\n",
    "* volta_passelivre"
   ]
  },
  {
   "cell_type": "code",
   "execution_count": null,
   "id": "802783d8",
   "metadata": {},
   "outputs": [],
   "source": [
    "from codigo import get_antt\n",
    "\n",
    "lista_anos = [2005, 2006, 2007, 2008, 2009, 2010, 2011, 2012, 2013, 2014, 2015, 2016, 2017, 2018, 2019, 2020, 2021]\n",
    "\n",
    "for ano in lista_anos:\n",
    "    get_antt(ano)"
   ]
  },
  {
   "cell_type": "code",
   "execution_count": null,
   "id": "bf696bd3",
   "metadata": {},
   "outputs": [],
   "source": [
    "import pandas as pd\n",
    "tb_2005 = pd.read_csv('ref/2005.csv', sep = ';', quotechar = \"'\", encoding = 'utf-8')\n",
    "tb_2006 = pd.read_csv('ref/2006.csv', sep = ';', quotechar = \"'\", encoding = 'utf-8')\n",
    "tb_2007 = pd.read_csv('ref/2007.csv', sep = ';', quotechar = \"'\", encoding = 'utf-8')\n",
    "tb_2008 = pd.read_csv('ref/2008.csv', sep = ';', quotechar = \"'\", encoding = 'utf-8')\n",
    "tb_2009 = pd.read_csv('ref/2009.csv', sep = ';', quotechar = \"'\", encoding = 'utf-8')\n",
    "tb_2010 = pd.read_csv('ref/2010.csv', sep = ';', quotechar = \"'\", encoding = 'utf-8')\n",
    "tb_2011 = pd.read_csv('ref/2011.csv', sep = ';', quotechar = \"'\", encoding = 'utf-8')\n",
    "tb_2012 = pd.read_csv('ref/2012.csv', sep = ';', quotechar = \"'\", encoding = 'utf-8')\n",
    "tb_2013 = pd.read_csv('ref/2013.csv', sep = ';', quotechar = \"'\", encoding = 'utf-8')\n",
    "tb_2014 = pd.read_csv('ref/2014.csv', sep = ';', quotechar = \"'\", encoding = 'utf-8')\n",
    "tb_2015 = pd.read_csv('ref/2015.csv', sep = ';', quotechar = \"'\", encoding = 'utf-8')\n",
    "tb_2016 = pd.read_csv('ref/2016.csv', sep = ';', quotechar = \"'\", encoding = 'utf-8')\n",
    "tb_2017 = pd.read_csv('ref/2017.csv', sep = ';', quotechar = \"'\", encoding = 'utf-8')\n",
    "tb_2018 = pd.read_csv('ref/2018.csv', sep = ';', quotechar = \"'\", encoding = 'utf-8')\n",
    "tb_2019 = pd.read_csv('ref/2019.csv', sep = ';', quotechar = \"'\", encoding = 'utf-8')\n",
    "tb_2020 = pd.read_csv('ref/2020.csv', sep = ';', quotechar = \"'\", encoding = 'utf-8')\n",
    "tb_2021 = pd.read_csv('ref/2021.csv', sep = ';', quotechar = \"'\", encoding = 'utf-8')"
   ]
  },
  {
   "cell_type": "code",
   "execution_count": null,
   "id": "8d803e0a",
   "metadata": {},
   "outputs": [],
   "source": [
    "(\n",
    "    len(tb_2005.columns) ==\n",
    "    len(tb_2006.columns) ==\n",
    "    len(tb_2007.columns) ==\n",
    "    len(tb_2008.columns) ==\n",
    "    len(tb_2009.columns) ==\n",
    "    len(tb_2010.columns) ==\n",
    "    len(tb_2011.columns) ==\n",
    "    len(tb_2012.columns) ==\n",
    "    len(tb_2013.columns) ==\n",
    "    len(tb_2014.columns) ==\n",
    "    len(tb_2015.columns) ==\n",
    "    len(tb_2016.columns) ==\n",
    "    len(tb_2017.columns) ==\n",
    "    len(tb_2018.columns) ==\n",
    "    len(tb_2019.columns) ==\n",
    "    len(tb_2020.columns) ==\n",
    "    len(tb_2021.columns)\n",
    ")"
   ]
  },
  {
   "cell_type": "code",
   "execution_count": null,
   "id": "575334fb",
   "metadata": {},
   "outputs": [],
   "source": [
    "# import pandasql as ps\n",
    "# ps.sqldf(\"SELECT * FROM tb_2014 LIMIT 2\")"
   ]
  }
 ],
 "metadata": {
  "kernelspec": {
   "display_name": "Python 3 (ipykernel)",
   "language": "python",
   "name": "python3"
  },
  "language_info": {
   "codemirror_mode": {
    "name": "ipython",
    "version": 3
   },
   "file_extension": ".py",
   "mimetype": "text/x-python",
   "name": "python",
   "nbconvert_exporter": "python",
   "pygments_lexer": "ipython3",
   "version": "3.9.10"
  }
 },
 "nbformat": 4,
 "nbformat_minor": 5
}
