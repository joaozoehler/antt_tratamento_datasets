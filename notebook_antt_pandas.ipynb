{
 "cells": [
  {
   "cell_type": "markdown",
   "id": "98a4117a",
   "metadata": {},
   "source": [
    "# Manipulação de datasets de dados do transporte rodoviário interestadual e internacional de passageiros do Brasil\n",
    "## Dados disponibilizados pela ANTT (Agência Nacional de Transportes Terrestres)\n",
    "### Página oficial: http://www.antt.gov.br/\n",
    "\n",
    "## O script faz os seguintes passos:\n",
    "* 1) lê cada um dos datasets - 2005 a 2019\n",
    "* 2) verifica o ano de input (2005, 2006, 2007... 2019)\n",
    "* 3) executa o script conforme o ano\n",
    "    * 3.1) cada ano, depois de 2014, possui um esquema de dados distinto, com variações no total de colunas\n",
    "* 4) renomeia todas as colunas através de um padrão estipulado anteriormente\n",
    "* 5) retira o excesso de espaços das colunas\n",
    "* 6) cria colunas em branco quando a coluna não consta no dataset em questão de tal script\n",
    "* 7) exporta __todos__ os datasets em arquivo __csv__ separados por __vírgulas (,)__ e em codificação __utf-8__\n",
    "* 8) ao final, realiza uma comparação se o total de colunas é comum entre todos os datasets (53 colunas)"
   ]
  },
  {
   "cell_type": "markdown",
   "id": "a2cf89e2",
   "metadata": {},
   "source": [
    "# Colunas que devem estar presentes em todos os datasets\n",
    "* ano\n",
    "* codigo\n",
    "* des_localidade_id\n",
    "* des_localidade_nome\n",
    "* des_localidade_uf\n",
    "* des_municipio_id\n",
    "* des_municipio_nome\n",
    "* empresa\n",
    "* empresa_cnpj\n",
    "* empresa_situacao\n",
    "* empresa_tipo\n",
    "* ida_idoso_desconto\n",
    "* ida_idoso_gratis\n",
    "* ida_jovem_desconto\n",
    "* ida_jovem_gratis\n",
    "* ida_pagantes\n",
    "* ida_passelivre\n",
    "* km\n",
    "* km_total\n",
    "* linha\n",
    "* linha_id\n",
    "* lugares_idas\n",
    "* lugares_voltas\n",
    "* mes\n",
    "* ori_des_localidade_nome\n",
    "* ori_localidade_id\n",
    "* ori_localidade_nome\n",
    "* ori_localidade_uf\n",
    "* ori_municipio_id\n",
    "* ori_municipio_nome\n",
    "* pax_gratis_descontos\n",
    "* pax_idoso_desconto\n",
    "* pax_idoso_gratis\n",
    "* pax_jovem_desconto\n",
    "* pax_jovem_gratis\n",
    "* pax_pagantes\n",
    "* pax_passelivre\n",
    "* pax_total\n",
    "* prefixo\n",
    "* secao_id\n",
    "* sequencial\n",
    "* servico_ambito\n",
    "* servico_tipo\n",
    "* sisdap_fim\n",
    "* sisdap_inicio\n",
    "* viagem_idas\n",
    "* viagem_voltas\n",
    "* volta_idoso_desconto\n",
    "* volta_idoso_gratis\n",
    "* volta_jovem_desconto\n",
    "* volta_jovem_gratis\n",
    "* volta_pagantes\n",
    "* volta_passelivre"
   ]
  },
  {
   "cell_type": "code",
   "execution_count": null,
   "id": "802783d8",
   "metadata": {},
   "outputs": [],
   "source": [
    "from codigo_antt import get_antt\n",
    "\n",
    "get_antt(2020)"
   ]
  },
  {
   "cell_type": "code",
   "execution_count": null,
   "id": "bf696bd3",
   "metadata": {},
   "outputs": [],
   "source": [
    "def ler_antt(ano):\n",
    "    import pandas as pd\n",
    "    df = pd.read_parquet(f'./interestadual/ref/parquet/{ano}.parquet')\n",
    "    return df\n",
    "\n",
    "tb_2008 = ler_antt(2008)\n",
    "tb_2015 = ler_antt(2015)\n",
    "tb_2019 = ler_antt(2019)"
   ]
  },
  {
   "cell_type": "code",
   "execution_count": null,
   "id": "8d803e0a",
   "metadata": {},
   "outputs": [],
   "source": [
    "(\n",
    "    len(tb_2008.columns) ==\n",
    "    len(tb_2015.columns) ==\n",
    "    len(tb_2019.columns)\n",
    ")\n"
   ]
  }
 ],
 "metadata": {
  "kernelspec": {
   "display_name": "Python 3 (ipykernel)",
   "language": "python",
   "name": "python3"
  },
  "language_info": {
   "codemirror_mode": {
    "name": "ipython",
    "version": 3
   },
   "file_extension": ".py",
   "mimetype": "text/x-python",
   "name": "python",
   "nbconvert_exporter": "python",
   "pygments_lexer": "ipython3",
   "version": "3.9.10"
  }
 },
 "nbformat": 4,
 "nbformat_minor": 5
}
