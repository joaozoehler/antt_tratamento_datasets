{
 "cells": [
  {
   "cell_type": "code",
   "execution_count": null,
   "id": "26b982ea",
   "metadata": {},
   "outputs": [],
   "source": [
    "import pyspark\n",
    "from pyspark.sql import SparkSession\n",
    "from pyspark.sql.types import *\n",
    "from pyspark.sql.functions import *\n",
    "from pyspark.sql import SQLContext\n",
    "spark = SparkSession.builder.master(\"local[*]\").appName('spark_intermunicipal_sc').getOrCreate()"
   ]
  },
  {
   "cell_type": "code",
   "execution_count": null,
   "id": "8be719d9",
   "metadata": {},
   "outputs": [],
   "source": [
    "# tb = spark.read.option(\"inferSchema\", \"true\").parquet(\"intermunicipal_sc/ref/parquet\")\n",
    "# tb = spark.read.schema(schema).parquet(\"intermunicipal_sc/ref/parquet\")\n",
    "tb = spark.read.parquet(\"intermunicipal_sc/ref/parquet\")\n",
    "tb.createOrReplaceTempView(\"tb\")\n",
    "\n",
    "dicionario_secoes = spark.read.option(\"delimiter\", \";\").option(\"header\", \"true\").option(\"inferSchema\", \"true\").option(\"encoding\", \"utf-8\").csv(\"./intermunicipal_sc/dicionario/dicionario_secoes_stripped.csv\")\n",
    "dicionario_secoes.createOrReplaceTempView(\"dicionario_secoes\")\n",
    "\n",
    "dicionario_linhas = spark.read.option(\"delimiter\", \";\").option(\"header\", \"true\").option(\"inferSchema\", \"true\").option(\"encoding\", \"utf-8\").csv(\"./intermunicipal_sc/dicionario/dicionario_linhas_stripped.csv\")\n",
    "dicionario_linhas.createOrReplaceTempView(\"dicionario_linhas\")"
   ]
  },
  {
   "cell_type": "code",
   "execution_count": null,
   "id": "1bfac226",
   "metadata": {},
   "outputs": [],
   "source": [
    "# verificação dos arquivos lidos\n",
    "\n",
    "print(f\"\\\n",
    "      tb = {tb.count()} linhas | {len(tb.columns)} colunas\\n\\\n",
    "      dicionario_secoes = {dicionario_secoes.count()} linhas | {len(dicionario_secoes.columns)} colunas\\n\\\n",
    "      dicionario_linhas = {dicionario_linhas.count()} linhas | {len(dicionario_linhas.columns)} colunas\\\n",
    "      \")"
   ]
  },
  {
   "cell_type": "code",
   "execution_count": null,
   "id": "f54232c6",
   "metadata": {},
   "outputs": [],
   "source": [
    "tb.printSchema()"
   ]
  },
  {
   "cell_type": "code",
   "execution_count": null,
   "id": "978309e8",
   "metadata": {},
   "outputs": [],
   "source": [
    "df_join = spark.sql(\"\"\"\n",
    "\n",
    "SELECT\n",
    "tb.ano AS `ano`,\n",
    "tb.empresa AS `empresa`,\n",
    "servico_ambito AS `modalidade`,\n",
    "CONCAT(prefixo, ' - ', CONCAT(linha_ori.sig, '-', linha_des.sig)) AS linha,\n",
    "prefixo,\n",
    "CONCAT(linha_ori.sig, '-', linha_des.sig) AS sig_linha_ori_des,\n",
    "CONCAT(secao_ori.sig, '-', secao_des.sig) AS sig_secao_ori_des,\n",
    "km,\n",
    "pax_total AS `passageiros_total`,\n",
    "tb.ori_municipio_nome AS sie_linha_ori,\n",
    "tb.des_municipio_nome AS sie_linha_des,\n",
    "tb.ori_localidade_nome AS sie_secao_ori,\n",
    "tb.des_localidade_nome AS sie_secao_des,\n",
    "linha_ori.sig AS sig_linha_ori,\n",
    "linha_des.sig AS sig_linha_des,\n",
    "secao_ori.sig AS sig_secao_ori,\n",
    "secao_des.sig AS sig_secao_des\n",
    "FROM tb\n",
    "LEFT JOIN dicionario_secoes AS secao_ori ON tb.ori_localidade_nome = secao_ori.sie\n",
    "LEFT JOIN dicionario_secoes AS secao_des ON tb.des_localidade_nome = secao_des.sie\n",
    "LEFT JOIN dicionario_linhas AS linha_ori ON tb.ori_municipio_nome = linha_ori.sie\n",
    "LEFT JOIN dicionario_linhas AS linha_des ON tb.des_municipio_nome = linha_des.sie\n",
    "ORDER BY `ano`, `empresa`, `prefixo`\n",
    "\n",
    "\"\"\")"
   ]
  },
  {
   "cell_type": "code",
   "execution_count": null,
   "id": "1d5c8b37",
   "metadata": {},
   "outputs": [],
   "source": [
    "print((df_join.count(), len(df_join.columns)))"
   ]
  },
  {
   "cell_type": "code",
   "execution_count": null,
   "id": "38c2e2d0",
   "metadata": {},
   "outputs": [],
   "source": [
    "# df_join.show(10, False)"
   ]
  },
  {
   "cell_type": "markdown",
   "id": "7bd9f65f",
   "metadata": {},
   "source": [
    "# Gravação"
   ]
  },
  {
   "cell_type": "code",
   "execution_count": null,
   "id": "207ac111",
   "metadata": {},
   "outputs": [],
   "source": [
    "# df_join.write.option(\"header\", \"True\").option(\"encoding\", \"utf-8\").parquet(\"./intermunicipal_sc/ref_join/parquet/multifile/\")\n",
    "# df_join.write.option(\"header\", \"True\").option(\"encoding\", \"utf-8\").parquet(\"./intermunicipal_sc/ref_join/parquet/singlefile/\")\n",
    "# df_join.write.option(\"delimiter\", \";\").option(\"header\", \"True\").option(\"encoding\", \"utf-8\").csv(\"./intermunicipal_sc/ref_join/csv/multifile/\")\n",
    "# df_join.write.option(\"delimiter\", \";\").option(\"header\", \"True\").option(\"encoding\", \"utf-8\").csv(\"./intermunicipal_sc/ref_join/csv/singlefile/\")\n",
    "# df_join.write.partitionBy(\"ano\", \"empresa\").option(\"delimiter\", \";\").option(\"header\", \"true\").option(\"encoding\", \"utf-8\").csv(\"./intermunicipal_sc/ref_join/\")"
   ]
  },
  {
   "cell_type": "markdown",
   "id": "720d4015",
   "metadata": {},
   "source": [
    "# Teste"
   ]
  },
  {
   "cell_type": "code",
   "execution_count": null,
   "id": "f4307582",
   "metadata": {
    "scrolled": true
   },
   "outputs": [],
   "source": [
    "leitura_joined = spark.read.option('delimiter', ';').option('encoding', 'utf-8').option('header', 'true').parquet(\"./intermunicipal_sc/ref_join/parquet/singlefile/\")\n",
    "\n",
    "def teste_qualidade(df, n_colunas, n_linhas):\n",
    "    if (len(df.columns) == n_colunas) == True and (int(df.count()) == n_linhas) == True:\n",
    "        print(\"OK\")\n",
    "    else:\n",
    "        print(\"FAILED\")\n",
    "\n",
    "teste_qualidade(leitura_joined, 16, 615285)"
   ]
  },
  {
   "cell_type": "code",
   "execution_count": null,
   "id": "b23abaf7",
   "metadata": {},
   "outputs": [],
   "source": [
    "leitura_joined.printSchema()"
   ]
  },
  {
   "cell_type": "code",
   "execution_count": null,
   "id": "00344d01",
   "metadata": {},
   "outputs": [],
   "source": [
    "leitura_joined.createOrReplaceTempView(\"qd\")"
   ]
  },
  {
   "cell_type": "code",
   "execution_count": null,
   "id": "bde81c7c",
   "metadata": {},
   "outputs": [],
   "source": [
    "select_reunidas_2006 = spark.sql(\"\"\"\n",
    "\n",
    "SELECT ano, empresa, modalidade, prefixo AS linha_prefixo, CONCAT(sie_linha_ori, '-', sie_linha_des) AS linha_descricao, CONCAT(sie_secao_ori, '-', sie_secao_des) AS linha_secao, passageiros_total FROM qd WHERE passageiros_total > 0 AND ano = 2006 AND modalidade = 'RODOVIARIO' AND sig_secao_ori_des LIKE \"%CHAPECÓSC%\";\n",
    "\n",
    "\"\"\")\n",
    "\n",
    "select_reunidas_2006.toPandas().to_html('teste.html', index = False)"
   ]
  },
  {
   "cell_type": "code",
   "execution_count": null,
   "id": "0327812c",
   "metadata": {},
   "outputs": [],
   "source": [
    "leitura_joined.printSchema()"
   ]
  },
  {
   "cell_type": "markdown",
   "id": "3e6eedf5",
   "metadata": {},
   "source": [
    "# Exemplos"
   ]
  },
  {
   "cell_type": "markdown",
   "id": "67ee4d1d",
   "metadata": {},
   "source": [
    "## Seleção com atributos usando spark.sql\n",
    "* algumas colunas\n",
    "* 2019 como ano-base\n",
    "* empresas de código 23 e 1505 (Reunidas)\n",
    "* movimentação de passageiros superior a 10.000\n",
    "* modalidade (âmbito) do serviço rodoviário\n",
    "* ordenação decrescente do total de passageiros"
   ]
  },
  {
   "cell_type": "code",
   "execution_count": null,
   "id": "e0b75e76",
   "metadata": {
    "scrolled": true
   },
   "outputs": [],
   "source": [
    "spark.sql(\"\"\"\n",
    "\n",
    "SELECT ano AS Ano, empresa AS Empresa, CONCAT(ori_municipio_nome, '-', des_municipio_nome) AS Linha, ori_des_localidade_nome AS `Origem-destino`, pax_total AS `Total de passageiros`\n",
    "FROM tb\n",
    "WHERE ano = 2019\n",
    "AND (empresa LIKE '23%' OR empresa LIKE '1505%')\n",
    "AND pax_total > 10000\n",
    "AND servico_ambito = 'RODOVIARIO'\n",
    "ORDER BY pax_total DESC\n",
    "\n",
    "\"\"\").show(10, False)"
   ]
  },
  {
   "cell_type": "markdown",
   "id": "e55b1a3e",
   "metadata": {},
   "source": [
    "## Seleção com atributos usando select do DataFrame\n",
    "* algumas colunas"
   ]
  },
  {
   "cell_type": "code",
   "execution_count": null,
   "id": "10915a9d",
   "metadata": {
    "scrolled": true
   },
   "outputs": [],
   "source": [
    "tb.select(\n",
    "    \"ano\",\n",
    "    \"empresa\",\n",
    "    \"prefixo\",\n",
    "    concat_ws(\"-\", \"ori_municipio_nome\", \"des_municipio_nome\").alias(\"linha_ori_des_sie\"),\n",
    "    concat_ws(\"-\", \"ori_localidade_nome\", \"des_localidade_nome\").alias(\"secao_ori_des_sie\"),\n",
    "    \"pax_total\"\n",
    ").show(10, False)"
   ]
  },
  {
   "cell_type": "markdown",
   "id": "06a466b1",
   "metadata": {},
   "source": [
    "## Seleção com atributos usando select do DataFrame\n",
    "* algumas colunas\n",
    "* concatenação de dados"
   ]
  },
  {
   "cell_type": "code",
   "execution_count": null,
   "id": "fb13bc4c",
   "metadata": {},
   "outputs": [],
   "source": [
    "tb.select(\n",
    "    \"ano\",\n",
    "    \"empresa\",\n",
    "    struct(\"prefixo\", concat_ws(\"-\", \"ori_municipio_nome\", \"des_municipio_nome\").alias(\"linha_ori_des_sie\")).alias(\"linha\"),\n",
    "    concat_ws(\"-\", \"ori_localidade_nome\", \"des_localidade_nome\").alias(\"secao_ori_des_sie\"),\n",
    "    \"pax_total\"\n",
    ").show(10, False)"
   ]
  },
  {
   "cell_type": "markdown",
   "id": "c5ecfc0e",
   "metadata": {},
   "source": [
    "##### _ _ _ _ _ _ _ _ _ _ _ _ _ _ _ _ _ _ _ _ _ _ _ _ _ _ _ _ _ _ _ _ _ _ _ _ _ _ _ _ _ _ _ _ _ _ _ _ _ _ _ _ _ _ _ _ _ _ _ _ _ _ _ _ _ _ _ _ _ _ _ _ _ _ _ _ _ _ _ _ _ _ _ _ _ _ _ _ _ _ _ _ _ _ _ _ _ _ _ _ _ _ _ _ _ _ _ _ _ _ _ _ "
   ]
  },
  {
   "cell_type": "code",
   "execution_count": null,
   "id": "f291e8a1",
   "metadata": {},
   "outputs": [],
   "source": [
    "schema = StructType([\n",
    "    StructField(\"ano\", LongType(), True),\n",
    "    StructField(\"codigo\", StringType(), True),\n",
    "    StructField(\"des_localidade_id\", StringType(), True),\n",
    "    StructField(\"des_localidade_nome\", StringType(), True),\n",
    "    StructField(\"des_localidade_uf\", StringType(), True),\n",
    "    StructField(\"des_municipio_id\", StringType(), True),\n",
    "    StructField(\"des_municipio_nome\", StringType(), True),\n",
    "    StructField(\"empresa\", StringType(), True),\n",
    "    StructField(\"empresa_cnpj\", StringType(), True),\n",
    "    StructField(\"empresa_situacao\", StringType(), True),\n",
    "    StructField(\"empresa_tipo\", StringType(), True),\n",
    "    StructField(\"ida_idoso_desconto\", StringType(), True),\n",
    "    StructField(\"ida_idoso_gratis\", StringType(), True),\n",
    "    StructField(\"ida_jovem_desconto\", StringType(), True),\n",
    "    StructField(\"ida_jovem_gratis\", StringType(), True),\n",
    "    StructField(\"ida_pagantes\", StringType(), True),\n",
    "    StructField(\"ida_passelivre\", StringType(), True),\n",
    "    StructField(\"km\", StringType(), True),\n",
    "    StructField(\"km_total\", StringType(), True),\n",
    "    StructField(\"linha\", StringType(), True),\n",
    "    StructField(\"linha_id\", StringType(), True),\n",
    "    StructField(\"lugares_idas\", StringType(), True),\n",
    "    StructField(\"lugares_voltas\", StringType(), True),\n",
    "    StructField(\"mes\", StringType(), True),\n",
    "    StructField(\"ori_des_localidade_nome\", StringType(), True),\n",
    "    StructField(\"ori_localidade_id\", StringType(), True),\n",
    "    StructField(\"ori_localidade_nome\", StringType(), True),\n",
    "    StructField(\"ori_localidade_uf\", StringType(), True),\n",
    "    StructField(\"ori_municipio_id\", StringType(), True),\n",
    "    StructField(\"ori_municipio_nome\", StringType(), True),\n",
    "    StructField(\"pax_gratis_descontos\", StringType(), True),\n",
    "    StructField(\"pax_idoso_desconto\", StringType(), True),\n",
    "    StructField(\"pax_idoso_gratis\", StringType(), True),\n",
    "    StructField(\"pax_jovem_desconto\", StringType(), True),\n",
    "    StructField(\"pax_jovem_gratis\", StringType(), True),\n",
    "    StructField(\"pax_pagantes\", StringType(), True),\n",
    "    StructField(\"pax_passelivre\", StringType(), True),\n",
    "    StructField(\"pax_total\", StringType(), True),\n",
    "    StructField(\"prefixo\", StringType(), True),\n",
    "    StructField(\"secao_id\", StringType(), True),\n",
    "    StructField(\"sequencial\", StringType(), True),\n",
    "    StructField(\"servico_ambito\", StringType(), True),\n",
    "    StructField(\"servico_tipo\", StringType(), True),\n",
    "    StructField(\"sisdap_fim\", StringType(), True),\n",
    "    StructField(\"sisdap_inicio\", StringType(), True),\n",
    "    StructField(\"viagem_idas\", StringType(), True),\n",
    "    StructField(\"viagem_voltas\", StringType(), True),\n",
    "    StructField(\"volta_idoso_desconto\", StringType(), True),\n",
    "    StructField(\"volta_idoso_gratis\", StringType(), True),\n",
    "    StructField(\"volta_jovem_desconto\", StringType(), True),\n",
    "    StructField(\"volta_jovem_gratis\", StringType(), True),\n",
    "    StructField(\"volta_pagantes\", StringType(), True),\n",
    "    StructField(\"volta_passelivre\", StringType(), True)])"
   ]
  }
 ],
 "metadata": {
  "kernelspec": {
   "display_name": "Python 3 (ipykernel)",
   "language": "python",
   "name": "python3"
  },
  "language_info": {
   "codemirror_mode": {
    "name": "ipython",
    "version": 3
   },
   "file_extension": ".py",
   "mimetype": "text/x-python",
   "name": "python",
   "nbconvert_exporter": "python",
   "pygments_lexer": "ipython3",
   "version": "3.9.7"
  }
 },
 "nbformat": 4,
 "nbformat_minor": 5
}
