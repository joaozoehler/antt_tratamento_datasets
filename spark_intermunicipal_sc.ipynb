{
 "cells": [
  {
   "cell_type": "code",
   "execution_count": 16,
   "id": "26b982ea",
   "metadata": {},
   "outputs": [],
   "source": [
    "import pyspark\n",
    "from pyspark.sql import SparkSession\n",
    "from pyspark.sql.types import *\n",
    "from pyspark.sql.functions import *\n",
    "from pyspark.sql import SQLContext\n",
    "spark = SparkSession.builder.master(\"local[*]\").appName('').getOrCreate()"
   ]
  },
  {
   "cell_type": "code",
   "execution_count": 17,
   "id": "f291e8a1",
   "metadata": {},
   "outputs": [],
   "source": [
    "schema = StructType([\n",
    "    StructField(\"ano\", LongType(), True),\n",
    "    StructField(\"codigo\", StringType(), True),\n",
    "    StructField(\"des_localidade_id\", StringType(), True),\n",
    "    StructField(\"des_localidade_nome\", StringType(), True),\n",
    "    StructField(\"des_localidade_uf\", StringType(), True),\n",
    "    StructField(\"des_municipio_id\", StringType(), True),\n",
    "    StructField(\"des_municipio_nome\", StringType(), True),\n",
    "    StructField(\"empresa\", StringType(), True),\n",
    "    StructField(\"empresa_cnpj\", StringType(), True),\n",
    "    StructField(\"empresa_situacao\", StringType(), True),\n",
    "    StructField(\"empresa_tipo\", StringType(), True),\n",
    "    StructField(\"ida_idoso_desconto\", StringType(), True),\n",
    "    StructField(\"ida_idoso_gratis\", StringType(), True),\n",
    "    StructField(\"ida_jovem_desconto\", StringType(), True),\n",
    "    StructField(\"ida_jovem_gratis\", StringType(), True),\n",
    "    StructField(\"ida_pagantes\", StringType(), True),\n",
    "    StructField(\"ida_passelivre\", StringType(), True),\n",
    "    StructField(\"km\", StringType(), True),\n",
    "    StructField(\"km_total\", StringType(), True),\n",
    "    StructField(\"linha\", StringType(), True),\n",
    "    StructField(\"linha_id\", StringType(), True),\n",
    "    StructField(\"lugares_idas\", StringType(), True),\n",
    "    StructField(\"lugares_voltas\", StringType(), True),\n",
    "    StructField(\"mes\", StringType(), True),\n",
    "    StructField(\"ori_des_localidade_nome\", StringType(), True),\n",
    "    StructField(\"ori_localidade_id\", StringType(), True),\n",
    "    StructField(\"ori_localidade_nome\", StringType(), True),\n",
    "    StructField(\"ori_localidade_uf\", StringType(), True),\n",
    "    StructField(\"ori_municipio_id\", StringType(), True),\n",
    "    StructField(\"ori_municipio_nome\", StringType(), True),\n",
    "    StructField(\"pax_gratis_descontos\", StringType(), True),\n",
    "    StructField(\"pax_idoso_desconto\", StringType(), True),\n",
    "    StructField(\"pax_idoso_gratis\", StringType(), True),\n",
    "    StructField(\"pax_jovem_desconto\", StringType(), True),\n",
    "    StructField(\"pax_jovem_gratis\", StringType(), True),\n",
    "    StructField(\"pax_pagantes\", StringType(), True),\n",
    "    StructField(\"pax_passelivre\", StringType(), True),\n",
    "    StructField(\"pax_total\", StringType(), True),\n",
    "    StructField(\"prefixo\", StringType(), True),\n",
    "    StructField(\"secao_id\", StringType(), True),\n",
    "    StructField(\"sequencial\", StringType(), True),\n",
    "    StructField(\"servico_ambito\", StringType(), True),\n",
    "    StructField(\"servico_tipo\", StringType(), True),\n",
    "    StructField(\"sisdap_fim\", StringType(), True),\n",
    "    StructField(\"sisdap_inicio\", StringType(), True),\n",
    "    StructField(\"viagem_idas\", StringType(), True),\n",
    "    StructField(\"viagem_voltas\", StringType(), True),\n",
    "    StructField(\"volta_idoso_desconto\", StringType(), True),\n",
    "    StructField(\"volta_idoso_gratis\", StringType(), True),\n",
    "    StructField(\"volta_jovem_desconto\", StringType(), True),\n",
    "    StructField(\"volta_jovem_gratis\", StringType(), True),\n",
    "    StructField(\"volta_pagantes\", StringType(), True),\n",
    "    StructField(\"volta_passelivre\", StringType(), True)])"
   ]
  },
  {
   "cell_type": "code",
   "execution_count": 18,
   "id": "8be719d9",
   "metadata": {},
   "outputs": [],
   "source": [
    "# tb = spark.read.option(\"inferSchema\", \"true\").parquet(\"intermunicipal_sc/ref/parquet\")\n",
    "tb = spark.read.schema(schema).parquet(\"intermunicipal_sc/ref/parquet\")\n",
    "# tb = spark.read.parquet(\"intermunicipal_sc/ref/parquet\")\n",
    "tb.createOrReplaceTempView(\"tb\")\n",
    "\n",
    "dicionario = spark.read.option(\"delimiter\", \";\").option(\"header\", \"true\").option(\"inferSchema\", \"true\").option(\"encoding\", \"utf-8\").csv(\"./dicionario_deter_sie.csv\")\n",
    "dicionario.createOrReplaceTempView(\"dicionario\")"
   ]
  },
  {
   "cell_type": "code",
   "execution_count": 19,
   "id": "1fa185c0",
   "metadata": {
    "scrolled": false
   },
   "outputs": [
    {
     "name": "stdout",
     "output_type": "stream",
     "text": [
      "+----+-----------------------------+-------+-----------------------------+-----------------------------------------+------+-----------------+\n",
      "|ano |empresa                      |prefixo|linha_ori_des_sie            |localidade_ori_des_sig                   |km    |passageiros_total|\n",
      "+----+-----------------------------+-------+-----------------------------+-----------------------------------------+------+-----------------+\n",
      "|2008|1-EMP STO ANJO DA GUARDA LTDA|16-0   |BALNEARIO CAMBORIU-JOINVILLE |BALNEÁRIO CAMBORIÚSC-ITAJAÍSC            |11,00 |10140            |\n",
      "|2008|1-EMP STO ANJO DA GUARDA LTDA|16-0   |BALNEARIO CAMBORIU-JOINVILLE |BALNEÁRIO CAMBORIÚSC-NAVEGANTESSC        |26,00 |173              |\n",
      "|2008|1-EMP STO ANJO DA GUARDA LTDA|16-0   |BALNEARIO CAMBORIU-JOINVILLE |BALNEÁRIO CAMBORIÚSC-BALNEÁRIO PIÇARRASSC|36,00 |3673             |\n",
      "|2008|1-EMP STO ANJO DA GUARDA LTDA|16-0   |BALNEARIO CAMBORIU-JOINVILLE |BALNEÁRIO CAMBORIÚSC-BARRA VELHASC       |43,00 |620              |\n",
      "|2008|1-EMP STO ANJO DA GUARDA LTDA|16-0   |BALNEARIO CAMBORIU-JOINVILLE |BALNEÁRIO CAMBORIÚSC-BARRA VELHASC       |52,00 |887              |\n",
      "|2008|1-EMP STO ANJO DA GUARDA LTDA|16-0   |BALNEARIO CAMBORIU-JOINVILLE |BALNEÁRIO CAMBORIÚSC-ARAQUARISC          |65,00 |72               |\n",
      "|2008|1-EMP STO ANJO DA GUARDA LTDA|16-0   |BALNEARIO CAMBORIU-JOINVILLE |BALNEÁRIO CAMBORIÚSC-ARAQUARISC          |82,00 |41               |\n",
      "|2008|1-EMP STO ANJO DA GUARDA LTDA|16-0   |BALNEARIO CAMBORIU-JOINVILLE |BALNEÁRIO CAMBORIÚSC-JOINVILLESC         |101,00|955              |\n",
      "|2008|1-EMP STO ANJO DA GUARDA LTDA|16-0   |BALNEARIO CAMBORIU-JOINVILLE |ITAJAÍSC-NAVEGANTESSC                    |15,00 |4420             |\n",
      "|2008|1-EMP STO ANJO DA GUARDA LTDA|16-0   |BALNEARIO CAMBORIU-JOINVILLE |ITAJAÍSC-BALNEÁRIO PIÇARRASSC            |25,00 |8735             |\n",
      "+----+-----------------------------+-------+-----------------------------+-----------------------------------------+------+-----------------+\n",
      "only showing top 10 rows\n",
      "\n"
     ]
    }
   ],
   "source": [
    "df_join = spark.sql(\"\"\"\n",
    "\n",
    "SELECT\n",
    "tb.ano AS `ano`,\n",
    "tb.empresa AS `empresa`,\n",
    "prefixo,\n",
    "CONCAT(ori_municipio_nome, '-', des_municipio_nome) as linha_ori_des_sie,\n",
    "CONCAT(loc_ori.SIG_CONCAT_UPPER, '-', loc_des.SIG_CONCAT_UPPER) AS localidade_ori_des_sig,\n",
    "km,\n",
    "pax_total AS `passageiros_total`\n",
    "FROM tb\n",
    "LEFT JOIN dicionario AS loc_ori ON tb.ori_localidade_nome = loc_ori.SIE_NOME\n",
    "LEFT JOIN dicionario AS loc_des ON tb.des_localidade_nome = loc_des.SIE_NOME\n",
    "LEFT JOIN dicionario AS mun_ori ON tb.ori_municipio_nome = mun_ori.SIE_NOME\n",
    "LEFT JOIN dicionario AS mun_des ON tb.des_municipio_nome = mun_des.SIE_NOME\n",
    "\n",
    "\"\"\").show(10, False)\n",
    "\n",
    "# WHERE ano = '2000' AND (pax_total > 0) AND (loc_ori.SIG_CONCAT_UPPER LIKE 'GUATAMBÚSC' OR loc_des.SIG_CONCAT_UPPER LIKE 'GUATAMBÚSC')\n",
    "\n",
    "# WHERE ano = '2000' AND (pax_total > 0) AND (loc_ori.SIG_CONCAT_UPPER LIKE 'CHAPECÓSC' OR loc_des.SIG_CONCAT_UPPER LIKE 'CHAPECÓSC')\n",
    "\n",
    "# df_join.write.option(\"delimiter\", \",\").option(\"header\", \"true\").option(\"encoding\", \"utf-8\").csv(\"./testecsv/\")\n",
    "\n",
    "# df_join.write.partitionBy(\"empresa\").parquet(\"./test_joined\")"
   ]
  },
  {
   "cell_type": "code",
   "execution_count": 20,
   "id": "e0b75e76",
   "metadata": {},
   "outputs": [
    {
     "name": "stdout",
     "output_type": "stream",
     "text": [
      "+----+---------------------------------+-----------------------+---------------------+--------------------+\n",
      "|Ano |Empresa                          |Linha                  |Origem-destino       |Total de passageiros|\n",
      "+----+---------------------------------+-----------------------+---------------------+--------------------+\n",
      "|2019|23-REUNIDAS S/A-TRANSP COLETIVOS |CONCORDIA -CHAPECO     |CONCORDIA-CHAPECO    |18585               |\n",
      "|2019|23-REUNIDAS S/A-TRANSP COLETIVOS |LAGES -FLORIANOPOLIS   |LAGES-FLORIANOPOLIS  |14683               |\n",
      "|2019|23-REUNIDAS S/A-TRANSP COLETIVOS |FLORIANOPOLIS -BLUMENAU|BRUSQUE-BLUMENAU     |13541               |\n",
      "|2019|23-REUNIDAS S/A-TRANSP COLETIVOS |CONCORDIA -CHAPECO     |SEARA-CHAPECO        |12997               |\n",
      "|2019|23-REUNIDAS S/A-TRANSP COLETIVOS |LAGES -CURITIBANOS     |LAGES-CORREIA PINTO  |11451               |\n",
      "|2019|23-REUNIDAS S/A-TRANSP COLETIVOS |MAFRA -JOINVILLE       |MAFRA-S BENTO DO SUL |11017               |\n",
      "+----+---------------------------------+-----------------------+---------------------+--------------------+\n",
      "\n"
     ]
    }
   ],
   "source": [
    "spark.sql(\"\"\"\n",
    "\n",
    "SELECT ano AS Ano, empresa AS Empresa, CONCAT(ori_municipio_nome, '-', des_municipio_nome) AS Linha, ori_des_localidade_nome AS `Origem-destino`, pax_total AS `Total de passageiros`\n",
    "FROM tb\n",
    "WHERE ano = 2019\n",
    "AND (empresa LIKE '23%' OR empresa LIKE '1505%')\n",
    "AND pax_total > 10000\n",
    "AND servico_ambito = 'RODOVIARIO'\n",
    "ORDER BY pax_total DESC\n",
    "\n",
    "\"\"\").show(10, False)"
   ]
  },
  {
   "cell_type": "code",
   "execution_count": 21,
   "id": "10915a9d",
   "metadata": {},
   "outputs": [
    {
     "name": "stdout",
     "output_type": "stream",
     "text": [
      "+----+-----------------------------+-------+-----------------------------+---------------------------+---------+\n",
      "|ano |empresa                      |prefixo|linha_ori_des_sie            |secao_ori_des_sie          |pax_total|\n",
      "+----+-----------------------------+-------+-----------------------------+---------------------------+---------+\n",
      "|2008|1-EMP STO ANJO DA GUARDA LTDA|16-0   |BALNEARIO CAMBORIU-JOINVILLE |BALN CAMBORIU-ITAJAI       |10140    |\n",
      "|2008|1-EMP STO ANJO DA GUARDA LTDA|16-0   |BALNEARIO CAMBORIU-JOINVILLE |BALN CAMBORIU-S NICOLAU    |173      |\n",
      "|2008|1-EMP STO ANJO DA GUARDA LTDA|16-0   |BALNEARIO CAMBORIU-JOINVILLE |BALN CAMBORIU-PICARRAS     |3673     |\n",
      "|2008|1-EMP STO ANJO DA GUARDA LTDA|16-0   |BALNEARIO CAMBORIU-JOINVILLE |BALN CAMBORIU-ITAJUBA 2    |620      |\n",
      "|2008|1-EMP STO ANJO DA GUARDA LTDA|16-0   |BALNEARIO CAMBORIU-JOINVILLE |BALN CAMBORIU-BARRA VELHA  |887      |\n",
      "|2008|1-EMP STO ANJO DA GUARDA LTDA|16-0   |BALNEARIO CAMBORIU-JOINVILLE |BALN CAMBORIU-ITAPOCU      |72       |\n",
      "|2008|1-EMP STO ANJO DA GUARDA LTDA|16-0   |BALNEARIO CAMBORIU-JOINVILLE |BALN CAMBORIU-POCO GRANDE 2|41       |\n",
      "|2008|1-EMP STO ANJO DA GUARDA LTDA|16-0   |BALNEARIO CAMBORIU-JOINVILLE |BALN CAMBORIU-JOINVILLE    |955      |\n",
      "|2008|1-EMP STO ANJO DA GUARDA LTDA|16-0   |BALNEARIO CAMBORIU-JOINVILLE |ITAJAI -S NICOLAU          |4420     |\n",
      "|2008|1-EMP STO ANJO DA GUARDA LTDA|16-0   |BALNEARIO CAMBORIU-JOINVILLE |ITAJAI -PICARRAS           |8735     |\n",
      "+----+-----------------------------+-------+-----------------------------+---------------------------+---------+\n",
      "only showing top 10 rows\n",
      "\n"
     ]
    }
   ],
   "source": [
    "tb.select(\n",
    "    \"ano\",\n",
    "    \"empresa\",\n",
    "    \"prefixo\",\n",
    "    concat_ws(\"-\", \"ori_municipio_nome\", \"des_municipio_nome\").alias(\"linha_ori_des_sie\"),\n",
    "    concat_ws(\"-\", \"ori_localidade_nome\", \"des_localidade_nome\").alias(\"secao_ori_des_sie\"),\n",
    "    \"pax_total\"\n",
    ").show(10, False)"
   ]
  },
  {
   "cell_type": "code",
   "execution_count": 22,
   "id": "fb13bc4c",
   "metadata": {},
   "outputs": [
    {
     "name": "stdout",
     "output_type": "stream",
     "text": [
      "+----+-----------------------------+-------------------------------------+---------------------------+---------+\n",
      "|ano |empresa                      |linha                                |secao_ori_des_sie          |pax_total|\n",
      "+----+-----------------------------+-------------------------------------+---------------------------+---------+\n",
      "|2008|1-EMP STO ANJO DA GUARDA LTDA|{16-0, BALNEARIO CAMBORIU-JOINVILLE }|BALN CAMBORIU-ITAJAI       |10140    |\n",
      "|2008|1-EMP STO ANJO DA GUARDA LTDA|{16-0, BALNEARIO CAMBORIU-JOINVILLE }|BALN CAMBORIU-S NICOLAU    |173      |\n",
      "|2008|1-EMP STO ANJO DA GUARDA LTDA|{16-0, BALNEARIO CAMBORIU-JOINVILLE }|BALN CAMBORIU-PICARRAS     |3673     |\n",
      "|2008|1-EMP STO ANJO DA GUARDA LTDA|{16-0, BALNEARIO CAMBORIU-JOINVILLE }|BALN CAMBORIU-ITAJUBA 2    |620      |\n",
      "|2008|1-EMP STO ANJO DA GUARDA LTDA|{16-0, BALNEARIO CAMBORIU-JOINVILLE }|BALN CAMBORIU-BARRA VELHA  |887      |\n",
      "|2008|1-EMP STO ANJO DA GUARDA LTDA|{16-0, BALNEARIO CAMBORIU-JOINVILLE }|BALN CAMBORIU-ITAPOCU      |72       |\n",
      "|2008|1-EMP STO ANJO DA GUARDA LTDA|{16-0, BALNEARIO CAMBORIU-JOINVILLE }|BALN CAMBORIU-POCO GRANDE 2|41       |\n",
      "|2008|1-EMP STO ANJO DA GUARDA LTDA|{16-0, BALNEARIO CAMBORIU-JOINVILLE }|BALN CAMBORIU-JOINVILLE    |955      |\n",
      "|2008|1-EMP STO ANJO DA GUARDA LTDA|{16-0, BALNEARIO CAMBORIU-JOINVILLE }|ITAJAI -S NICOLAU          |4420     |\n",
      "|2008|1-EMP STO ANJO DA GUARDA LTDA|{16-0, BALNEARIO CAMBORIU-JOINVILLE }|ITAJAI -PICARRAS           |8735     |\n",
      "+----+-----------------------------+-------------------------------------+---------------------------+---------+\n",
      "only showing top 10 rows\n",
      "\n"
     ]
    }
   ],
   "source": [
    "# tb.printSchema()\n",
    "tb.select(\n",
    "    \"ano\",\n",
    "    \"empresa\",\n",
    "    struct(\"prefixo\", concat_ws(\"-\", \"ori_municipio_nome\", \"des_municipio_nome\").alias(\"linha_ori_des_sie\")).alias(\"linha\"),\n",
    "    concat_ws(\"-\", \"ori_localidade_nome\", \"des_localidade_nome\").alias(\"secao_ori_des_sie\"),\n",
    "    \"pax_total\"\n",
    ").show(10, False)"
   ]
  },
  {
   "cell_type": "code",
   "execution_count": 23,
   "id": "855ae719",
   "metadata": {},
   "outputs": [],
   "source": [
    "# tb.groupBy(\"empresa\").sum(\"pax_total\").show(10, False)"
   ]
  }
 ],
 "metadata": {
  "kernelspec": {
   "display_name": "Python 3 (ipykernel)",
   "language": "python",
   "name": "python3"
  },
  "language_info": {
   "codemirror_mode": {
    "name": "ipython",
    "version": 3
   },
   "file_extension": ".py",
   "mimetype": "text/x-python",
   "name": "python",
   "nbconvert_exporter": "python",
   "pygments_lexer": "ipython3",
   "version": "3.9.7"
  }
 },
 "nbformat": 4,
 "nbformat_minor": 5
}
