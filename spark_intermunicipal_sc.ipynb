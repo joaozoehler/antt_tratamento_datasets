{
 "cells": [
  {
   "cell_type": "code",
   "execution_count": 1,
   "id": "26b982ea",
   "metadata": {},
   "outputs": [
    {
     "name": "stderr",
     "output_type": "stream",
     "text": [
      "WARNING: An illegal reflective access operation has occurred\n",
      "WARNING: Illegal reflective access by org.apache.spark.unsafe.Platform (file:/usr/local/spark-3.2.0-bin-hadoop3.2/jars/spark-unsafe_2.12-3.2.0.jar) to constructor java.nio.DirectByteBuffer(long,int)\n",
      "WARNING: Please consider reporting this to the maintainers of org.apache.spark.unsafe.Platform\n",
      "WARNING: Use --illegal-access=warn to enable warnings of further illegal reflective access operations\n",
      "WARNING: All illegal access operations will be denied in a future release\n",
      "Using Spark's default log4j profile: org/apache/spark/log4j-defaults.properties\n",
      "Setting default log level to \"WARN\".\n",
      "To adjust logging level use sc.setLogLevel(newLevel). For SparkR, use setLogLevel(newLevel).\n",
      "22/02/09 19:03:09 WARN NativeCodeLoader: Unable to load native-hadoop library for your platform... using builtin-java classes where applicable\n"
     ]
    }
   ],
   "source": [
    "import pyspark\n",
    "from pyspark.sql import SparkSession\n",
    "from pyspark.sql.types import *\n",
    "from pyspark.sql.functions import *\n",
    "from pyspark.sql import SQLContext\n",
    "spark = SparkSession.builder.master(\"local[*]\").appName('').getOrCreate()"
   ]
  },
  {
   "cell_type": "code",
   "execution_count": 2,
   "id": "f291e8a1",
   "metadata": {},
   "outputs": [],
   "source": [
    "schema = StructType([\n",
    "    StructField(\"ano\", LongType(), True),\n",
    "    StructField(\"codigo\", StringType(), True),\n",
    "    StructField(\"des_localidade_id\", StringType(), True),\n",
    "    StructField(\"des_localidade_nome\", StringType(), True),\n",
    "    StructField(\"des_localidade_uf\", StringType(), True),\n",
    "    StructField(\"des_municipio_id\", StringType(), True),\n",
    "    StructField(\"des_municipio_nome\", StringType(), True),\n",
    "    StructField(\"empresa\", StringType(), True),\n",
    "    StructField(\"empresa_cnpj\", StringType(), True),\n",
    "    StructField(\"empresa_situacao\", StringType(), True),\n",
    "    StructField(\"empresa_tipo\", StringType(), True),\n",
    "    StructField(\"ida_idoso_desconto\", StringType(), True),\n",
    "    StructField(\"ida_idoso_gratis\", StringType(), True),\n",
    "    StructField(\"ida_jovem_desconto\", StringType(), True),\n",
    "    StructField(\"ida_jovem_gratis\", StringType(), True),\n",
    "    StructField(\"ida_pagantes\", StringType(), True),\n",
    "    StructField(\"ida_passelivre\", StringType(), True),\n",
    "    StructField(\"km\", StringType(), True),\n",
    "    StructField(\"km_total\", StringType(), True),\n",
    "    StructField(\"linha\", StringType(), True),\n",
    "    StructField(\"linha_id\", StringType(), True),\n",
    "    StructField(\"lugares_idas\", StringType(), True),\n",
    "    StructField(\"lugares_voltas\", StringType(), True),\n",
    "    StructField(\"mes\", StringType(), True),\n",
    "    StructField(\"ori_des_localidade_nome\", StringType(), True),\n",
    "    StructField(\"ori_localidade_id\", StringType(), True),\n",
    "    StructField(\"ori_localidade_nome\", StringType(), True),\n",
    "    StructField(\"ori_localidade_uf\", StringType(), True),\n",
    "    StructField(\"ori_municipio_id\", StringType(), True),\n",
    "    StructField(\"ori_municipio_nome\", StringType(), True),\n",
    "    StructField(\"pax_gratis_descontos\", StringType(), True),\n",
    "    StructField(\"pax_idoso_desconto\", StringType(), True),\n",
    "    StructField(\"pax_idoso_gratis\", StringType(), True),\n",
    "    StructField(\"pax_jovem_desconto\", StringType(), True),\n",
    "    StructField(\"pax_jovem_gratis\", StringType(), True),\n",
    "    StructField(\"pax_pagantes\", StringType(), True),\n",
    "    StructField(\"pax_passelivre\", StringType(), True),\n",
    "    StructField(\"pax_total\", StringType(), True),\n",
    "    StructField(\"prefixo\", StringType(), True),\n",
    "    StructField(\"secao_id\", StringType(), True),\n",
    "    StructField(\"sequencial\", StringType(), True),\n",
    "    StructField(\"servico_ambito\", StringType(), True),\n",
    "    StructField(\"servico_tipo\", StringType(), True),\n",
    "    StructField(\"sisdap_fim\", StringType(), True),\n",
    "    StructField(\"sisdap_inicio\", StringType(), True),\n",
    "    StructField(\"viagem_idas\", StringType(), True),\n",
    "    StructField(\"viagem_voltas\", StringType(), True),\n",
    "    StructField(\"volta_idoso_desconto\", StringType(), True),\n",
    "    StructField(\"volta_idoso_gratis\", StringType(), True),\n",
    "    StructField(\"volta_jovem_desconto\", StringType(), True),\n",
    "    StructField(\"volta_jovem_gratis\", StringType(), True),\n",
    "    StructField(\"volta_pagantes\", StringType(), True),\n",
    "    StructField(\"volta_passelivre\", StringType(), True)])"
   ]
  },
  {
   "cell_type": "code",
   "execution_count": 3,
   "id": "8be719d9",
   "metadata": {},
   "outputs": [
    {
     "name": "stderr",
     "output_type": "stream",
     "text": [
      "22/02/09 19:03:27 WARN package: Truncated the string representation of a plan since it was too large. This behavior can be adjusted by setting 'spark.sql.debug.maxToStringFields'.\n"
     ]
    }
   ],
   "source": [
    "# tb = spark.read.option(\"inferSchema\", \"true\").parquet(\"intermunicipal_sc/ref/parquet\")\n",
    "tb = spark.read.schema(schema).parquet(\"intermunicipal_sc/ref/parquet\")\n",
    "# tb = spark.read.parquet(\"intermunicipal_sc/ref/parquet\")\n",
    "tb.createOrReplaceTempView(\"tb\")\n",
    "\n",
    "dicionario = spark.read.option(\"delimiter\", \";\").option(\"header\", \"true\").option(\"inferSchema\", \"true\").option(\"encoding\", \"utf-8\").csv(\"./dicionario_deter_sie.csv\")\n",
    "dicionario.createOrReplaceTempView(\"dicionario\")"
   ]
  },
  {
   "cell_type": "code",
   "execution_count": 31,
   "id": "1fa185c0",
   "metadata": {
    "scrolled": false
   },
   "outputs": [
    {
     "name": "stdout",
     "output_type": "stream",
     "text": [
      "+----+-----------------------------+-------+-----------------------+--------------------------+---+-----------------+\n",
      "|ano |empresa                      |prefixo|linha_ori_des_sie      |localidade_ori_des_sig    |km |passageiros_total|\n",
      "+----+-----------------------------+-------+-----------------------+--------------------------+---+-----------------+\n",
      "|2020|1-EMP STO ANJO DA GUARDA LTDA|32-1   |CRICIUMA-FLORIANOPOLIS |CRICIÚMASC-TUBARÃOSC      |62 |548              |\n",
      "|2020|1-EMP STO ANJO DA GUARDA LTDA|32-1   |CRICIUMA-FLORIANOPOLIS |CRICIÚMASC-IMBITUBASC     |110|2                |\n",
      "|2020|1-EMP STO ANJO DA GUARDA LTDA|32-1   |CRICIUMA-FLORIANOPOLIS |CRICIÚMASC-FLORIANÓPOLISSC|204|1293             |\n",
      "|2020|1-EMP STO ANJO DA GUARDA LTDA|32-1   |CRICIUMA-FLORIANOPOLIS |TUBARÃOSC-IMBITUBASC      |48 |1                |\n",
      "|2020|1-EMP STO ANJO DA GUARDA LTDA|32-1   |CRICIUMA-FLORIANOPOLIS |TUBARÃOSC-FLORIANÓPOLISSC |142|1015             |\n",
      "|2020|1-EMP STO ANJO DA GUARDA LTDA|32-1   |CRICIUMA-FLORIANOPOLIS |IMBITUBASC-FLORIANÓPOLISSC|94 |3                |\n",
      "|2020|1-EMP STO ANJO DA GUARDA LTDA|32-3   |CRICIUMA-FLORIANOPOLIS |CRICIÚMASC-TUBARÃOSC      |62 |151              |\n",
      "|2020|1-EMP STO ANJO DA GUARDA LTDA|32-3   |CRICIUMA-FLORIANOPOLIS |CRICIÚMASC-LAGUNASC       |93 |425              |\n",
      "|2020|1-EMP STO ANJO DA GUARDA LTDA|32-3   |CRICIUMA-FLORIANOPOLIS |CRICIÚMASC-IMBITUBASC     |127|170              |\n",
      "|2020|1-EMP STO ANJO DA GUARDA LTDA|32-3   |CRICIUMA-FLORIANOPOLIS |CRICIÚMASC-IMBITUBASC     |143|35               |\n",
      "|2020|1-EMP STO ANJO DA GUARDA LTDA|32-3   |CRICIUMA-FLORIANOPOLIS |CRICIÚMASC-FLORIANÓPOLISSC|221|480              |\n",
      "|2020|1-EMP STO ANJO DA GUARDA LTDA|32-3   |CRICIUMA-FLORIANOPOLIS |TUBARÃOSC-LAGUNASC        |31 |109              |\n",
      "|2020|1-EMP STO ANJO DA GUARDA LTDA|32-3   |CRICIUMA-FLORIANOPOLIS |TUBARÃOSC-IMBITUBASC      |65 |200              |\n",
      "|2020|1-EMP STO ANJO DA GUARDA LTDA|32-3   |CRICIUMA-FLORIANOPOLIS |TUBARÃOSC-IMBITUBASC      |81 |55               |\n",
      "|2020|1-EMP STO ANJO DA GUARDA LTDA|32-3   |CRICIUMA-FLORIANOPOLIS |TUBARÃOSC-FLORIANÓPOLISSC |159|343              |\n",
      "|2020|1-EMP STO ANJO DA GUARDA LTDA|32-3   |CRICIUMA-FLORIANOPOLIS |LAGUNASC-IMBITUBASC       |34 |155              |\n",
      "|2020|1-EMP STO ANJO DA GUARDA LTDA|32-3   |CRICIUMA-FLORIANOPOLIS |LAGUNASC-IMBITUBASC       |50 |41               |\n",
      "|2020|1-EMP STO ANJO DA GUARDA LTDA|32-3   |CRICIUMA-FLORIANOPOLIS |LAGUNASC-FLORIANÓPOLISSC  |128|726              |\n",
      "|2020|1-EMP STO ANJO DA GUARDA LTDA|32-3   |CRICIUMA-FLORIANOPOLIS |IMBITUBASC-IMBITUBASC     |16 |22               |\n",
      "|2020|1-EMP STO ANJO DA GUARDA LTDA|32-3   |CRICIUMA-FLORIANOPOLIS |IMBITUBASC-FLORIANÓPOLISSC|94 |812              |\n",
      "+----+-----------------------------+-------+-----------------------+--------------------------+---+-----------------+\n",
      "only showing top 20 rows\n",
      "\n"
     ]
    }
   ],
   "source": [
    "df_join = spark.sql(\"\"\"\n",
    "\n",
    "SELECT\n",
    "tb.ano AS `ano`,\n",
    "tb.empresa AS `empresa`,\n",
    "prefixo,\n",
    "CONCAT(ori_municipio_nome, '-', des_municipio_nome) as linha_ori_des_sie,\n",
    "CONCAT(loc_ori.SIG_CONCAT_UPPER, '-', loc_des.SIG_CONCAT_UPPER) AS localidade_ori_des_sig,\n",
    "km,\n",
    "pax_total AS `passageiros_total`\n",
    "FROM tb\n",
    "LEFT JOIN dicionario AS loc_ori ON tb.ori_localidade_nome = loc_ori.SIE_NOME\n",
    "LEFT JOIN dicionario AS loc_des ON tb.des_localidade_nome = loc_des.SIE_NOME\n",
    "LEFT JOIN dicionario AS mun_ori ON tb.ori_municipio_nome = mun_ori.SIE_NOME\n",
    "LEFT JOIN dicionario AS mun_des ON tb.des_municipio_nome = mun_des.SIE_NOME\n",
    "WHERE ano = 2020 AND pax_total > 0\n",
    "\n",
    "\"\"\").show(20, False)\n",
    "\n",
    "# WHERE ano = '2000' AND (pax_total > 0) AND (loc_ori.SIG_CONCAT_UPPER LIKE 'GUATAMBÚSC' OR loc_des.SIG_CONCAT_UPPER LIKE 'GUATAMBÚSC')\n",
    "\n",
    "# WHERE ano = '2000' AND (pax_total > 0) AND (loc_ori.SIG_CONCAT_UPPER LIKE 'CHAPECÓSC' OR loc_des.SIG_CONCAT_UPPER LIKE 'CHAPECÓSC')\n",
    "\n",
    "# df_join.write.option(\"delimiter\", \",\").option(\"header\", \"true\").option(\"encoding\", \"utf-8\").csv(\"./testecsv/\")\n",
    "\n",
    "# df_join.write.partitionBy(\"ano\").parquet(\"intermunicipal_sc/ref/parquet_partitioned/\")"
   ]
  },
  {
   "cell_type": "code",
   "execution_count": 20,
   "id": "e0b75e76",
   "metadata": {},
   "outputs": [
    {
     "name": "stdout",
     "output_type": "stream",
     "text": [
      "+----+---------------------------------+-----------------------+---------------------+--------------------+\n",
      "|Ano |Empresa                          |Linha                  |Origem-destino       |Total de passageiros|\n",
      "+----+---------------------------------+-----------------------+---------------------+--------------------+\n",
      "|2019|23-REUNIDAS S/A-TRANSP COLETIVOS |CONCORDIA -CHAPECO     |CONCORDIA-CHAPECO    |18585               |\n",
      "|2019|23-REUNIDAS S/A-TRANSP COLETIVOS |LAGES -FLORIANOPOLIS   |LAGES-FLORIANOPOLIS  |14683               |\n",
      "|2019|23-REUNIDAS S/A-TRANSP COLETIVOS |FLORIANOPOLIS -BLUMENAU|BRUSQUE-BLUMENAU     |13541               |\n",
      "|2019|23-REUNIDAS S/A-TRANSP COLETIVOS |CONCORDIA -CHAPECO     |SEARA-CHAPECO        |12997               |\n",
      "|2019|23-REUNIDAS S/A-TRANSP COLETIVOS |LAGES -CURITIBANOS     |LAGES-CORREIA PINTO  |11451               |\n",
      "|2019|23-REUNIDAS S/A-TRANSP COLETIVOS |MAFRA -JOINVILLE       |MAFRA-S BENTO DO SUL |11017               |\n",
      "+----+---------------------------------+-----------------------+---------------------+--------------------+\n",
      "\n"
     ]
    }
   ],
   "source": [
    "spark.sql(\"\"\"\n",
    "\n",
    "SELECT ano AS Ano, empresa AS Empresa, CONCAT(ori_municipio_nome, '-', des_municipio_nome) AS Linha, ori_des_localidade_nome AS `Origem-destino`, pax_total AS `Total de passageiros`\n",
    "FROM tb\n",
    "WHERE ano = 2019\n",
    "AND (empresa LIKE '23%' OR empresa LIKE '1505%')\n",
    "AND pax_total > 10000\n",
    "AND servico_ambito = 'RODOVIARIO'\n",
    "ORDER BY pax_total DESC\n",
    "\n",
    "\"\"\").show(10, False)"
   ]
  },
  {
   "cell_type": "code",
   "execution_count": 21,
   "id": "10915a9d",
   "metadata": {},
   "outputs": [
    {
     "name": "stdout",
     "output_type": "stream",
     "text": [
      "+----+-----------------------------+-------+-----------------------------+---------------------------+---------+\n",
      "|ano |empresa                      |prefixo|linha_ori_des_sie            |secao_ori_des_sie          |pax_total|\n",
      "+----+-----------------------------+-------+-----------------------------+---------------------------+---------+\n",
      "|2008|1-EMP STO ANJO DA GUARDA LTDA|16-0   |BALNEARIO CAMBORIU-JOINVILLE |BALN CAMBORIU-ITAJAI       |10140    |\n",
      "|2008|1-EMP STO ANJO DA GUARDA LTDA|16-0   |BALNEARIO CAMBORIU-JOINVILLE |BALN CAMBORIU-S NICOLAU    |173      |\n",
      "|2008|1-EMP STO ANJO DA GUARDA LTDA|16-0   |BALNEARIO CAMBORIU-JOINVILLE |BALN CAMBORIU-PICARRAS     |3673     |\n",
      "|2008|1-EMP STO ANJO DA GUARDA LTDA|16-0   |BALNEARIO CAMBORIU-JOINVILLE |BALN CAMBORIU-ITAJUBA 2    |620      |\n",
      "|2008|1-EMP STO ANJO DA GUARDA LTDA|16-0   |BALNEARIO CAMBORIU-JOINVILLE |BALN CAMBORIU-BARRA VELHA  |887      |\n",
      "|2008|1-EMP STO ANJO DA GUARDA LTDA|16-0   |BALNEARIO CAMBORIU-JOINVILLE |BALN CAMBORIU-ITAPOCU      |72       |\n",
      "|2008|1-EMP STO ANJO DA GUARDA LTDA|16-0   |BALNEARIO CAMBORIU-JOINVILLE |BALN CAMBORIU-POCO GRANDE 2|41       |\n",
      "|2008|1-EMP STO ANJO DA GUARDA LTDA|16-0   |BALNEARIO CAMBORIU-JOINVILLE |BALN CAMBORIU-JOINVILLE    |955      |\n",
      "|2008|1-EMP STO ANJO DA GUARDA LTDA|16-0   |BALNEARIO CAMBORIU-JOINVILLE |ITAJAI -S NICOLAU          |4420     |\n",
      "|2008|1-EMP STO ANJO DA GUARDA LTDA|16-0   |BALNEARIO CAMBORIU-JOINVILLE |ITAJAI -PICARRAS           |8735     |\n",
      "+----+-----------------------------+-------+-----------------------------+---------------------------+---------+\n",
      "only showing top 10 rows\n",
      "\n"
     ]
    }
   ],
   "source": [
    "tb.select(\n",
    "    \"ano\",\n",
    "    \"empresa\",\n",
    "    \"prefixo\",\n",
    "    concat_ws(\"-\", \"ori_municipio_nome\", \"des_municipio_nome\").alias(\"linha_ori_des_sie\"),\n",
    "    concat_ws(\"-\", \"ori_localidade_nome\", \"des_localidade_nome\").alias(\"secao_ori_des_sie\"),\n",
    "    \"pax_total\"\n",
    ").show(10, False)"
   ]
  },
  {
   "cell_type": "code",
   "execution_count": 22,
   "id": "fb13bc4c",
   "metadata": {},
   "outputs": [
    {
     "name": "stdout",
     "output_type": "stream",
     "text": [
      "+----+-----------------------------+-------------------------------------+---------------------------+---------+\n",
      "|ano |empresa                      |linha                                |secao_ori_des_sie          |pax_total|\n",
      "+----+-----------------------------+-------------------------------------+---------------------------+---------+\n",
      "|2008|1-EMP STO ANJO DA GUARDA LTDA|{16-0, BALNEARIO CAMBORIU-JOINVILLE }|BALN CAMBORIU-ITAJAI       |10140    |\n",
      "|2008|1-EMP STO ANJO DA GUARDA LTDA|{16-0, BALNEARIO CAMBORIU-JOINVILLE }|BALN CAMBORIU-S NICOLAU    |173      |\n",
      "|2008|1-EMP STO ANJO DA GUARDA LTDA|{16-0, BALNEARIO CAMBORIU-JOINVILLE }|BALN CAMBORIU-PICARRAS     |3673     |\n",
      "|2008|1-EMP STO ANJO DA GUARDA LTDA|{16-0, BALNEARIO CAMBORIU-JOINVILLE }|BALN CAMBORIU-ITAJUBA 2    |620      |\n",
      "|2008|1-EMP STO ANJO DA GUARDA LTDA|{16-0, BALNEARIO CAMBORIU-JOINVILLE }|BALN CAMBORIU-BARRA VELHA  |887      |\n",
      "|2008|1-EMP STO ANJO DA GUARDA LTDA|{16-0, BALNEARIO CAMBORIU-JOINVILLE }|BALN CAMBORIU-ITAPOCU      |72       |\n",
      "|2008|1-EMP STO ANJO DA GUARDA LTDA|{16-0, BALNEARIO CAMBORIU-JOINVILLE }|BALN CAMBORIU-POCO GRANDE 2|41       |\n",
      "|2008|1-EMP STO ANJO DA GUARDA LTDA|{16-0, BALNEARIO CAMBORIU-JOINVILLE }|BALN CAMBORIU-JOINVILLE    |955      |\n",
      "|2008|1-EMP STO ANJO DA GUARDA LTDA|{16-0, BALNEARIO CAMBORIU-JOINVILLE }|ITAJAI -S NICOLAU          |4420     |\n",
      "|2008|1-EMP STO ANJO DA GUARDA LTDA|{16-0, BALNEARIO CAMBORIU-JOINVILLE }|ITAJAI -PICARRAS           |8735     |\n",
      "+----+-----------------------------+-------------------------------------+---------------------------+---------+\n",
      "only showing top 10 rows\n",
      "\n"
     ]
    }
   ],
   "source": [
    "# tb.printSchema()\n",
    "tb.select(\n",
    "    \"ano\",\n",
    "    \"empresa\",\n",
    "    struct(\"prefixo\", concat_ws(\"-\", \"ori_municipio_nome\", \"des_municipio_nome\").alias(\"linha_ori_des_sie\")).alias(\"linha\"),\n",
    "    concat_ws(\"-\", \"ori_localidade_nome\", \"des_localidade_nome\").alias(\"secao_ori_des_sie\"),\n",
    "    \"pax_total\"\n",
    ").show(10, False)"
   ]
  },
  {
   "cell_type": "code",
   "execution_count": 23,
   "id": "855ae719",
   "metadata": {},
   "outputs": [],
   "source": [
    "# tb.groupBy(\"empresa\").sum(\"pax_total\").show(10, False)"
   ]
  }
 ],
 "metadata": {
  "kernelspec": {
   "display_name": "Python 3 (ipykernel)",
   "language": "python",
   "name": "python3"
  },
  "language_info": {
   "codemirror_mode": {
    "name": "ipython",
    "version": 3
   },
   "file_extension": ".py",
   "mimetype": "text/x-python",
   "name": "python",
   "nbconvert_exporter": "python",
   "pygments_lexer": "ipython3",
   "version": "3.9.7"
  }
 },
 "nbformat": 4,
 "nbformat_minor": 5
}
