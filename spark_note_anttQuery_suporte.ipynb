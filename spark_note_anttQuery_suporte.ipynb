{
 "cells": [
  {
   "cell_type": "markdown",
   "id": "ce1af36e",
   "metadata": {},
   "source": [
    "# ANTTquery\n",
    "Recebe valores e retorna um XLSX conforme o filtro selecionado."
   ]
  },
  {
   "cell_type": "code",
   "execution_count": null,
   "id": "a92ef378",
   "metadata": {
    "scrolled": true
   },
   "outputs": [],
   "source": [
    "import pyspark\n",
    "from pyspark.sql import SparkSession\n",
    "from pyspark.sql import SQLContext\n",
    "from pyspark.sql.functions import lit\n",
    "spark = SparkSession.builder.master(\"local[*]\").appName('query_antt').getOrCreate()\n",
    "\n",
    "antt = spark.read.option(\"header\", \"True\").parquet(\"./interestadual/ref/parquet/\")\n",
    "antt.createOrReplaceTempView(\"antt\")\n",
    "# antt.printSchema()\n",
    "# spark.sql(\"SHOW TABLES\").show(10, False)"
   ]
  },
  {
   "cell_type": "code",
   "execution_count": null,
   "id": "dcb8c89c",
   "metadata": {
    "scrolled": true
   },
   "outputs": [],
   "source": [
    "def select_antt():\n",
    "    # ---------------------------------------------------------------------------------------------------------\n",
    "    print(\"*\" * 100)\n",
    "    print(\"Selecione o tipo de particionamento:\\n1 | por ano / empresa / cidade\\n2 | por ano / por cidade\\n3 | por ano / por empresa\\n4 | por cidade full (todos os anos e empresas)\")\n",
    "    print(\"*\" * 100)\n",
    "    select_start = (input(\"Digite a opção de sua seleção: \"))\n",
    "    # ---------------------------------------------------------------------------------------------------------\n",
    "    if int(select_start) == 1: # 1 | por ano / empresa / cidade\n",
    "        print(f\"Sua seleção foi:\\nAno(s): {select_anos}\\nEmpresa(s): {select_empresas}\\nCidades(s): {select_cidades}\")\n",
    "        print(\"*\" * 100)\n",
    "        print(\"Realizando a consulta.\")\n",
    "        for cidade in select_cidades:\n",
    "            for ano in select_anos:\n",
    "                for empresa in select_empresas:\n",
    "                    origem = cidade\n",
    "                    destino = origem\n",
    "                    ano = ano\n",
    "                    empresa = empresa\n",
    "\n",
    "                    df_temp = spark.sql(f\"\"\"\n",
    "\n",
    "                    SELECT '{origem}' AS cidade_base, ano, mes, empresa, prefixo, ori_des_localidade_nome, pax_total\n",
    "                    FROM antt\n",
    "                    WHERE pax_total > 0\n",
    "                    AND empresa LIKE \"%{empresa}%\"\n",
    "                    AND ano = {ano}\n",
    "                    AND (ori_des_localidade_nome LIKE '%{origem}%' OR ori_des_localidade_nome LIKE '%{destino}%')\n",
    "                    ORDER BY ano ASC, empresa ASC, prefixo ASC, pax_total DESC\n",
    "\n",
    "                    \"\"\")\n",
    "                    print(\"Gravando a consulta em formato xlsx.\")\n",
    "                    if origem == destino:\n",
    "                        df_temp.toPandas().to_excel(f\"./interestadual_filtro/{origem}_{ano}_{empresa}.xlsx\", index = False)\n",
    "                    else:\n",
    "                        df_temp.toPandas().to_excel(f\"./interestadual_filtro/{origem}_{destino}_{ano}_{empresa}.xlsx\", index = False)\n",
    "    # ---------------------------------------------------------------------------------------------------------\n",
    "    elif int(select_start) == 2: # 2 | por cidade / por ano\n",
    "        print(f\"Sua seleção foi:\\nAno(s): {select_anos}\\nCidades(s): {select_cidades}\")\n",
    "        print(\"*\" * 100)\n",
    "        print(\"Realizando a consulta.\")\n",
    "        for cidade in select_cidades:\n",
    "            for ano in select_anos:\n",
    "                origem = cidade\n",
    "                destino = origem\n",
    "                ano = ano\n",
    "\n",
    "                df_temp = spark.sql(f\"\"\"\n",
    "\n",
    "                SELECT '{origem}' AS cidade_base, ano, mes, empresa, prefixo, ori_des_localidade_nome, pax_total\n",
    "                FROM antt\n",
    "                WHERE pax_total > 0\n",
    "                AND ano = {ano}\n",
    "                AND (ori_des_localidade_nome LIKE '%{origem}%' OR ori_des_localidade_nome LIKE '%{destino}%')\n",
    "                ORDER BY ano ASC, empresa ASC, prefixo ASC, pax_total DESC\n",
    "\n",
    "                \"\"\")\n",
    "                print(\"Gravando a consulta em formato xlsx.\")\n",
    "                if origem == destino:\n",
    "                    df_temp.toPandas().to_excel(f\"./interestadual_filtro/{origem}_{ano}.xlsx\", index = False)\n",
    "                else:\n",
    "                    df_temp.toPandas().to_excel(f\"./interestadual_filtro/{origem}_{destino}_{ano}.xlsx\", index = False)\n",
    "        print(\"Gravação realizada.\")\n",
    "    # ---------------------------------------------------------------------------------------------------------\n",
    "    elif int(select_start) == 3: # 3 | por ano / por empresa\n",
    "        print(f\"Sua seleção foi:\\nAno(s): {select_anos}\\nEmpresa(s): {select_empresas}\")\n",
    "        print(\"*\" * 100)\n",
    "        for empresa in select_empresas:\n",
    "            for ano in select_anos:\n",
    "                ano = ano\n",
    "                empresa = empresa\n",
    "\n",
    "                df_3 = spark.sql(f\"\"\"\n",
    "\n",
    "                SELECT ano, mes, empresa, prefixo, ori_des_localidade_nome, pax_total\n",
    "                FROM antt\n",
    "                WHERE pax_total > 0\n",
    "                AND empresa LIKE '%{empresa}%'\n",
    "                AND ano = {ano}\n",
    "                ORDER BY ano ASC, empresa ASC, prefixo ASC, pax_total DESC\n",
    "\n",
    "                \"\"\")\n",
    "                print(\"Gravando a consulta em formato xlsx.\")\n",
    "\n",
    "                df_3.toPandas().to_excel(f\"./interestadual_filtro/{empresa}_{ano}.xlsx\", index = False)\n",
    "    # ---------------------------------------------------------------------------------------------------------\n",
    "    elif int(select_start) == 4: # 3 | por cidade full\n",
    "        print(f\"Sua seleção foi:\\nCidade(s): {select_cidades}\")\n",
    "        print(\"*\" * 100)\n",
    "        for cidade in select_cidades:\n",
    "            origem = cidade\n",
    "            destino = origem\n",
    "            df_4 = spark.sql(f\"\"\"\n",
    "\n",
    "            SELECT '{origem}' AS cidade_base, ano, mes, empresa, prefixo, ori_des_localidade_nome, pax_total\n",
    "            FROM antt\n",
    "            WHERE pax_total > 0\n",
    "            AND (ori_des_localidade_nome LIKE '%{origem}%' OR ori_des_localidade_nome LIKE '%{destino}%')\n",
    "            ORDER BY ano ASC, empresa ASC, prefixo ASC, pax_total DESC\n",
    "\n",
    "            \"\"\")\n",
    "\n",
    "            if origem == destino:\n",
    "                df_4.toPandas().to_excel(f\"./interestadual_filtro/{origem}_todos.xlsx\", index = False)\n",
    "            else:\n",
    "                df_4.toPandas().to_excel(f\"./interestadual_filtro/{origem}_{destino}_todos.xlsx\", index = False)\n",
    "\n",
    "        print(\"Gravação realizada.\")\n",
    "    # ---------------------------------------------------------------------------------------------------------\n",
    "    else:\n",
    "        print(\"Selecione uma opção válida de consulta.\")\n",
    "    \n",
    "    # if empresa == \"\":\n",
    "    #     df_temp.withColumn(\"cidade_base\", lit(origem)).toPandas().to_excel(f\"{ano}_{origem}_{destino}.xlsx\", index = False)\n",
    "    # else:\n",
    "    #     df_temp.withColumn(\"cidade_base\", lit(origem)).toPandas().to_excel(f\"{ano}_{empresa}_{origem}_{destino}.xlsx\", index = False)    \n",
    "    # ---------------------------------------------------------------------------------------------------------"
   ]
  },
  {
   "cell_type": "code",
   "execution_count": null,
   "id": "5581b2a7",
   "metadata": {},
   "outputs": [],
   "source": [
    "# select_anos = [2005, 2006, 2007, 2008, 2009, 2010, 2011, 2012, 2013, 2014, 2015, 2016, 2017, 2018, 2019, 2020, 2021]\n",
    "select_anos = [2019]\n",
    "select_cidades = [\"JOINVILLE-SC\"]\n",
    "select_empresas = [\"GARCIA\"]\n",
    "\n",
    "select_antt()"
   ]
  },
  {
   "cell_type": "code",
   "execution_count": null,
   "id": "205f2b0e",
   "metadata": {
    "scrolled": true
   },
   "outputs": [],
   "source": []
  },
  {
   "cell_type": "code",
   "execution_count": null,
   "id": "4cf45b4a",
   "metadata": {
    "scrolled": true
   },
   "outputs": [],
   "source": [
    "import pyspark\n",
    "from pyspark.sql import SparkSession\n",
    "from pyspark.sql import SQLContext\n",
    "from pyspark.sql.functions import lit\n",
    "spark = SparkSession.builder.master(\"local[*]\").appName('').getOrCreate()"
   ]
  },
  {
   "cell_type": "code",
   "execution_count": null,
   "id": "e70f7d60",
   "metadata": {
    "scrolled": true
   },
   "outputs": [],
   "source": [
    "df = spark.read.parquet(\"./intermunicipal_sc/ref_join/parquet/singlefile/\")"
   ]
  },
  {
   "cell_type": "code",
   "execution_count": null,
   "id": "c65ae576",
   "metadata": {
    "scrolled": true
   },
   "outputs": [],
   "source": [
    "df.createOrReplaceTempView(\"df\")"
   ]
  },
  {
   "cell_type": "code",
   "execution_count": null,
   "id": "b9070cfe",
   "metadata": {
    "scrolled": true
   },
   "outputs": [],
   "source": [
    "print(f\"{df.count()} linhas | {len(df.columns)} colunas\")"
   ]
  },
  {
   "cell_type": "code",
   "execution_count": null,
   "id": "9fe3b593",
   "metadata": {
    "scrolled": true
   },
   "outputs": [],
   "source": [
    "df.printSchema()"
   ]
  },
  {
   "cell_type": "code",
   "execution_count": null,
   "id": "7f62326e",
   "metadata": {
    "scrolled": true
   },
   "outputs": [],
   "source": [
    "sql = spark.sql(\"SELECT ano, empresa, modalidade, linha, sig_secao_ori_des AS secao, km, passageiros_total AS pax_total FROM df\").show(20, False)"
   ]
  },
  {
   "cell_type": "code",
   "execution_count": null,
   "id": "31bae72f",
   "metadata": {
    "scrolled": true
   },
   "outputs": [],
   "source": [
    "import pandas as pd\n",
    "dfp = pd.read_parquet(\"./intermunicipal_sc/ref_join/parquet/singlefile\")\n",
    "dfp.head()"
   ]
  },
  {
   "cell_type": "code",
   "execution_count": null,
   "id": "e5069a21",
   "metadata": {
    "scrolled": true
   },
   "outputs": [],
   "source": [
    "# Script para gerar file \"todos\"\n",
    "empresa = \"\"\n",
    "origem = \"\"\n",
    "destino = origem\n",
    "ano = \"todos\"\n",
    "\n",
    "df_temp = spark.sql(f\"\"\"\n",
    "\n",
    "SELECT\n",
    "    '{origem}' AS cidade_base,\n",
    "    ano,\n",
    "    empresa,\n",
    "    prefixo,\n",
    "    ori_des_localidade_nome,\n",
    "    CAST(pax_total AS integer) AS passageiros\n",
    "FROM\n",
    "    antt\n",
    "WHERE\n",
    "    pax_total > 0\n",
    "-- AND\n",
    "    -- ano = {ano}\n",
    "AND\n",
    "    (ori_des_localidade_nome LIKE '%{origem}%' OR ori_des_localidade_nome LIKE '%{destino}%')\n",
    "ORDER BY\n",
    "    ano ASC,\n",
    "    empresa ASC,\n",
    "    prefixo ASC,\n",
    "    passageiros DESC\n",
    "\n",
    "\"\"\")\n",
    "\n",
    "df_temp.write.option(\"encoding\", \"utf-8\").parquet(\"./teste_pqfull/\")\n",
    "\n",
    "# if empresa == \"\":\n",
    "#     if origem == destino:\n",
    "#         df_temp.toPandas().to_excel(f\"./interestadual_filtro/{origem}_{ano}.xlsx\", index = False)\n",
    "#     else:\n",
    "#         df_temp.toPandas().to_excel(f\"./interestadual_filtro/{origem}_{destino}_{ano}.xlsx\", index = False)\n",
    "\n",
    "# else:\n",
    "#     if origem == destino:\n",
    "#         df_temp.toPandas().to_excel(f\"./interestadual_filtro/{empresa}_{origem}_{ano}.xlsx\", index = False)\n",
    "#     else:\n",
    "#         df_temp.toPandas().to_excel(f\"./interestadual_filtro/{empresa}_{origem}_{destino}_{ano}.xlsx\", index = False)"
   ]
  },
  {
   "cell_type": "code",
   "execution_count": null,
   "id": "7e1cebd5",
   "metadata": {},
   "outputs": [],
   "source": [
    "# schema = StructType([\n",
    "#     StructField(\"ano\", StringType(), True),\n",
    "#     StructField(\"codigo\", StringType(), True),\n",
    "#     StructField(\"des_localidade_id\", StringType(), True),\n",
    "#     StructField(\"des_localidade_nome\", StringType(), True),\n",
    "#     StructField(\"des_localidade_uf\", StringType(), True),\n",
    "#     StructField(\"des_municipio_id\", StringType(), True),\n",
    "#     StructField(\"des_municipio_nome\", StringType(), True),\n",
    "#     StructField(\"empresa\", StringType(), True),\n",
    "#     StructField(\"empresa_cnpj\", StringType(), True),\n",
    "#     StructField(\"empresa_situacao\", StringType(), True),\n",
    "#     StructField(\"empresa_tipo\", StringType(), True),\n",
    "#     StructField(\"ida_idoso_desconto\", StringType(), True),\n",
    "#     StructField(\"ida_idoso_gratis\", StringType(), True),\n",
    "#     StructField(\"ida_jovem_desconto\", StringType(), True),\n",
    "#     StructField(\"ida_jovem_gratis\", StringType(), True),\n",
    "#     StructField(\"ida_pagantes\", StringType(), True),\n",
    "#     StructField(\"ida_passelivre\", StringType(), True),\n",
    "#     StructField(\"km\", StringType(), True),\n",
    "#     StructField(\"km_total\", StringType(), True),\n",
    "#     StructField(\"linha\", StringType(), True),\n",
    "#     StructField(\"linha_id\", StringType(), True),\n",
    "#     StructField(\"lugares_idas\", StringType(), True),\n",
    "#     StructField(\"lugares_voltas\", StringType(), True),\n",
    "#     StructField(\"mes\", StringType(), True),\n",
    "#     StructField(\"ori_des_localidade_nome\", StringType(), True),\n",
    "#     StructField(\"ori_localidade_id\", StringType(), True),\n",
    "#     StructField(\"ori_localidade_nome\", StringType(), True),\n",
    "#     StructField(\"ori_localidade_uf\", StringType(), True),\n",
    "#     StructField(\"ori_municipio_id\", StringType(), True),\n",
    "#     StructField(\"ori_municipio_nome\", StringType(), True),\n",
    "#     StructField(\"pax_gratis_descontos\", StringType(), True),\n",
    "#     StructField(\"pax_idoso_desconto\", StringType(), True),\n",
    "#     StructField(\"pax_idoso_gratis\", StringType(), True),\n",
    "#     StructField(\"pax_jovem_desconto\", StringType(), True),\n",
    "#     StructField(\"pax_jovem_gratis\", StringType(), True),\n",
    "#     StructField(\"pax_pagantes\", StringType(), True),\n",
    "#     StructField(\"pax_passelivre\", StringType(), True),\n",
    "#     StructField(\"pax_total\", StringType(), True),\n",
    "#     StructField(\"prefixo\", StringType(), True),\n",
    "#     StructField(\"secao_id\", StringType(), True),\n",
    "#     StructField(\"sequencial\", StringType(), True),\n",
    "#     StructField(\"servico_ambito\", StringType(), True),\n",
    "#     StructField(\"servico_tipo\", StringType(), True),\n",
    "#     StructField(\"sisdap_fim\", StringType(), True),\n",
    "#     StructField(\"sisdap_inicio\", StringType(), True),\n",
    "#     StructField(\"viagem_idas\", StringType(), True),\n",
    "#     StructField(\"viagem_voltas\", StringType(), True),\n",
    "#     StructField(\"volta_idoso_desconto\", StringType(), True),\n",
    "#     StructField(\"volta_idoso_gratis\", StringType(), True),\n",
    "#     StructField(\"volta_jovem_desconto\", StringType(), True),\n",
    "#     StructField(\"volta_jovem_gratis\", StringType(), True),\n",
    "#     StructField(\"volta_pagantes\", StringType(), True),\n",
    "#     StructField(\"volta_passelivre\", StringType(), True)])"
   ]
  }
 ],
 "metadata": {
  "kernelspec": {
   "display_name": "Python 3 (ipykernel)",
   "language": "python",
   "name": "python3"
  },
  "language_info": {
   "codemirror_mode": {
    "name": "ipython",
    "version": 3
   },
   "file_extension": ".py",
   "mimetype": "text/x-python",
   "name": "python",
   "nbconvert_exporter": "python",
   "pygments_lexer": "ipython3",
   "version": "3.9.7"
  }
 },
 "nbformat": 4,
 "nbformat_minor": 5
}
