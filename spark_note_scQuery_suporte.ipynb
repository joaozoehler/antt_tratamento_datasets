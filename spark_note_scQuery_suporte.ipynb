{
 "cells": [
  {
   "cell_type": "code",
   "execution_count": 1,
   "id": "bf37f991",
   "metadata": {
    "scrolled": true
   },
   "outputs": [
    {
     "name": "stderr",
     "output_type": "stream",
     "text": [
      "WARNING: An illegal reflective access operation has occurred\n",
      "WARNING: Illegal reflective access by org.apache.spark.unsafe.Platform (file:/usr/local/spark-3.2.0-bin-hadoop3.2/jars/spark-unsafe_2.12-3.2.0.jar) to constructor java.nio.DirectByteBuffer(long,int)\n",
      "WARNING: Please consider reporting this to the maintainers of org.apache.spark.unsafe.Platform\n",
      "WARNING: Use --illegal-access=warn to enable warnings of further illegal reflective access operations\n",
      "WARNING: All illegal access operations will be denied in a future release\n",
      "Using Spark's default log4j profile: org/apache/spark/log4j-defaults.properties\n",
      "Setting default log level to \"WARN\".\n",
      "To adjust logging level use sc.setLogLevel(newLevel). For SparkR, use setLogLevel(newLevel).\n",
      "22/03/25 01:06:18 WARN NativeCodeLoader: Unable to load native-hadoop library for your platform... using builtin-java classes where applicable\n"
     ]
    }
   ],
   "source": [
    "import pyspark\n",
    "from pyspark.sql import SparkSession\n",
    "from pyspark.sql import SQLContext\n",
    "from pyspark.sql.functions import col\n",
    "from pyspark.sql.functions import lit\n",
    "spark = SparkSession.builder.master(\"local[*]\").appName('query_sc').getOrCreate()\n",
    "\n",
    "sc = spark.read.option(\"header\", \"True\").parquet(\"./intermunicipal_sc/ref_join/parquet/singlefile/\")\n",
    "sc.createOrReplaceTempView(\"sc\")"
   ]
  },
  {
   "cell_type": "code",
   "execution_count": 52,
   "id": "d464275d",
   "metadata": {},
   "outputs": [
    {
     "name": "stdout",
     "output_type": "stream",
     "text": [
      "root\n",
      " |-- ano: long (nullable = true)\n",
      " |-- empresa: string (nullable = true)\n",
      " |-- modalidade: string (nullable = true)\n",
      " |-- linha: string (nullable = true)\n",
      " |-- prefixo: string (nullable = true)\n",
      " |-- sig_linha_ori_des: string (nullable = true)\n",
      " |-- sig_secao_ori_des: string (nullable = true)\n",
      " |-- km: string (nullable = true)\n",
      " |-- passageiros_total: string (nullable = true)\n",
      " |-- sie_linha_ori: string (nullable = true)\n",
      " |-- sie_linha_des: string (nullable = true)\n",
      " |-- sie_secao_ori: string (nullable = true)\n",
      " |-- sie_secao_des: string (nullable = true)\n",
      " |-- sig_linha_ori: string (nullable = true)\n",
      " |-- sig_linha_des: string (nullable = true)\n",
      " |-- sig_secao_ori: string (nullable = true)\n",
      " |-- sig_secao_des: string (nullable = true)\n",
      "\n"
     ]
    }
   ],
   "source": [
    "sc.printSchema()"
   ]
  },
  {
   "cell_type": "code",
   "execution_count": 3,
   "id": "97ad4169",
   "metadata": {},
   "outputs": [
    {
     "name": "stderr",
     "output_type": "stream",
     "text": [
      "                                                                                \r"
     ]
    }
   ],
   "source": [
    "ano = list(range(2000, 2021, 1))\n",
    "for ano in ano:\n",
    "    spark.sql(f\"SELECT ano, empresa, modalidade, CONCAT(prefixo, ' - ', sie_linha_ori, ' - ', sie_linha_des) AS linha, CAST(passageiros_total AS INTEGER) FROM SC WHERE modalidade = 'RODOVIARIO' AND ano = {ano}\").groupBy(\"ano\", \"empresa\", \"linha\").sum(\"passageiros_total\").orderBy(\"ano\", \"empresa\", \"linha\").toPandas().to_excel(f\"deter_linhas_{ano}.xlsx\", index = False)"
   ]
  },
  {
   "cell_type": "code",
   "execution_count": 5,
   "id": "21fc40cd",
   "metadata": {},
   "outputs": [],
   "source": [
    "spark.sql(f\"SELECT ano, empresa, modalidade, CONCAT(prefixo, ' - ', sie_linha_ori, ' - ', sie_linha_des) AS linha, CAST(passageiros_total AS INTEGER) FROM SC WHERE modalidade = 'RODOVIARIO' AND ano = 2002\").groupBy(\"ano\", \"empresa\", \"linha\").sum(\"passageiros_total\").orderBy(\"ano\", \"empresa\", \"linha\").toPandas().to_excel(f\"deter_linhas_2002.xlsx\", index = False)"
   ]
  }
 ],
 "metadata": {
  "kernelspec": {
   "display_name": "Python 3 (ipykernel)",
   "language": "python",
   "name": "python3"
  },
  "language_info": {
   "codemirror_mode": {
    "name": "ipython",
    "version": 3
   },
   "file_extension": ".py",
   "mimetype": "text/x-python",
   "name": "python",
   "nbconvert_exporter": "python",
   "pygments_lexer": "ipython3",
   "version": "3.9.7"
  }
 },
 "nbformat": 4,
 "nbformat_minor": 5
}
