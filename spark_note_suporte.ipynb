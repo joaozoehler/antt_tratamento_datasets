{
 "cells": [
  {
   "cell_type": "code",
   "execution_count": null,
   "id": "4cf45b4a",
   "metadata": {},
   "outputs": [],
   "source": [
    "import pyspark\n",
    "from pyspark.sql import SparkSession\n",
    "from pyspark.sql import SQLContext\n",
    "from pyspark.sql.functions import lit\n",
    "spark = SparkSession.builder.master(\"local[*]\").appName('').getOrCreate()"
   ]
  },
  {
   "cell_type": "code",
   "execution_count": null,
   "id": "e70f7d60",
   "metadata": {},
   "outputs": [],
   "source": [
    "df = spark.read.parquet(\"./intermunicipal_sc/ref_join/parquet/singlefile/\")"
   ]
  },
  {
   "cell_type": "code",
   "execution_count": null,
   "id": "c65ae576",
   "metadata": {},
   "outputs": [],
   "source": [
    "df.createOrReplaceTempView(\"df\")"
   ]
  },
  {
   "cell_type": "code",
   "execution_count": null,
   "id": "b9070cfe",
   "metadata": {},
   "outputs": [],
   "source": [
    "print(f\"{df.count()} linhas | {len(df.columns)} colunas\")"
   ]
  },
  {
   "cell_type": "code",
   "execution_count": null,
   "id": "9fe3b593",
   "metadata": {},
   "outputs": [],
   "source": [
    "df.printSchema()"
   ]
  },
  {
   "cell_type": "code",
   "execution_count": null,
   "id": "7f62326e",
   "metadata": {
    "scrolled": false
   },
   "outputs": [],
   "source": [
    "sql = spark.sql(\"SELECT ano, empresa, modalidade, linha, sig_secao_ori_des AS secao, km, passageiros_total AS pax_total FROM df\").show(20, False)"
   ]
  },
  {
   "cell_type": "code",
   "execution_count": null,
   "id": "31bae72f",
   "metadata": {},
   "outputs": [],
   "source": [
    "import pandas as pd\n",
    "dfp = pd.read_parquet(\"./intermunicipal_sc/ref_join/parquet/singlefile\")\n",
    "dfp.head()"
   ]
  },
  {
   "cell_type": "markdown",
   "id": "ce1af36e",
   "metadata": {},
   "source": [
    "# ANTT"
   ]
  },
  {
   "cell_type": "code",
   "execution_count": null,
   "id": "a92ef378",
   "metadata": {},
   "outputs": [],
   "source": [
    "import pyspark\n",
    "from pyspark.sql import SparkSession\n",
    "from pyspark.sql import SQLContext\n",
    "from pyspark.sql.functions import lit\n",
    "spark = SparkSession.builder.master(\"local[*]\").appName('').getOrCreate()\n",
    "\n",
    "antt = spark.read.option(\"header\", \"True\").parquet(\"./interestadual/ref/parquet/\")\n",
    "antt.createOrReplaceTempView(\"antt\")\n",
    "# antt.printSchema()"
   ]
  },
  {
   "cell_type": "code",
   "execution_count": null,
   "id": "dcb8c89c",
   "metadata": {},
   "outputs": [],
   "source": [
    "empresa = \"\"\n",
    "origem = \"CHAPECO-SC\"\n",
    "destino = origem\n",
    "ano = \"2019\"\n",
    "\n",
    "df_temp = spark.sql(f\"\"\"\n",
    "\n",
    "SELECT '{origem}' AS cidade_base, ano, mes, empresa, prefixo, ori_des_localidade_nome, pax_total\n",
    "FROM antt\n",
    "WHERE pax_total > 0\n",
    "AND ano = {ano}\n",
    "AND empresa LIKE '%{empresa}%'\n",
    "AND (ori_des_localidade_nome LIKE '%{origem}%' OR ori_des_localidade_nome LIKE '%{destino}%')\n",
    "ORDER BY ano ASC, empresa ASC, prefixo ASC, pax_total DESC\n",
    "\n",
    "\"\"\")\n",
    "\n",
    "if empresa == \"\":\n",
    "    if origem == destino:\n",
    "        df_temp.toPandas().to_excel(f\"./interestadual_filtro/{ano}_{origem}.xlsx\", index = False)\n",
    "    else:\n",
    "        df_temp.toPandas().to_excel(f\"./interestadual_filtro/{ano}_{origem}_{destino}.xlsx\", index = False)\n",
    "    \n",
    "else:\n",
    "    if origem == destino:\n",
    "        df_temp.toPandas().to_excel(f\"./interestadual_filtro/{ano}_{empresa}_{origem}.xlsx\", index = False)\n",
    "    else:\n",
    "        df_temp.toPandas().to_excel(f\"./interestadual_filtro/{ano}_{empresa}_{origem}_{destino}.xlsx\", index = False)\n",
    "    \n",
    "# if empresa == \"\":\n",
    "#     df_temp.withColumn(\"cidade_base\", lit(origem)).toPandas().to_excel(f\"{ano}_{origem}_{destino}.xlsx\", index = False)\n",
    "# else:\n",
    "#     df_temp.withColumn(\"cidade_base\", lit(origem)).toPandas().to_excel(f\"{ano}_{empresa}_{origem}_{destino}.xlsx\", index = False)    "
   ]
  }
 ],
 "metadata": {
  "kernelspec": {
   "display_name": "Python 3 (ipykernel)",
   "language": "python",
   "name": "python3"
  },
  "language_info": {
   "codemirror_mode": {
    "name": "ipython",
    "version": 3
   },
   "file_extension": ".py",
   "mimetype": "text/x-python",
   "name": "python",
   "nbconvert_exporter": "python",
   "pygments_lexer": "ipython3",
   "version": "3.9.7"
  }
 },
 "nbformat": 4,
 "nbformat_minor": 5
}
