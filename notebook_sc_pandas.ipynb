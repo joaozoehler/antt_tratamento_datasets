{
 "cells": [
  {
   "cell_type": "markdown",
   "id": "7ddfdc22",
   "metadata": {},
   "source": [
    "# Função DETER/SIE"
   ]
  },
  {
   "cell_type": "code",
   "execution_count": 7,
   "id": "ce9c02eb",
   "metadata": {},
   "outputs": [
    {
     "name": "stdout",
     "output_type": "stream",
     "text": [
      "Gravação no formato CSV efetuada para o dataset de 2000\n",
      "Gravação no formato Parquet efetuada para o dataset de 2000\n",
      "Sucesso para o dataset de 2000\n",
      "\n",
      "Gravação no formato CSV efetuada para o dataset de 2001\n",
      "Gravação no formato Parquet efetuada para o dataset de 2001\n",
      "Sucesso para o dataset de 2001\n",
      "\n",
      "Gravação no formato CSV efetuada para o dataset de 2002\n",
      "Gravação no formato Parquet efetuada para o dataset de 2002\n",
      "Sucesso para o dataset de 2002\n",
      "\n",
      "Gravação no formato CSV efetuada para o dataset de 2003\n",
      "Gravação no formato Parquet efetuada para o dataset de 2003\n",
      "Sucesso para o dataset de 2003\n",
      "\n",
      "Gravação no formato CSV efetuada para o dataset de 2004\n",
      "Gravação no formato Parquet efetuada para o dataset de 2004\n",
      "Sucesso para o dataset de 2004\n",
      "\n",
      "Gravação no formato CSV efetuada para o dataset de 2005\n",
      "Gravação no formato Parquet efetuada para o dataset de 2005\n",
      "Sucesso para o dataset de 2005\n",
      "\n",
      "Gravação no formato CSV efetuada para o dataset de 2006\n",
      "Gravação no formato Parquet efetuada para o dataset de 2006\n",
      "Sucesso para o dataset de 2006\n",
      "\n",
      "Gravação no formato CSV efetuada para o dataset de 2007\n",
      "Gravação no formato Parquet efetuada para o dataset de 2007\n",
      "Sucesso para o dataset de 2007\n",
      "\n",
      "Gravação no formato CSV efetuada para o dataset de 2008\n",
      "Gravação no formato Parquet efetuada para o dataset de 2008\n",
      "Sucesso para o dataset de 2008\n",
      "\n",
      "Gravação no formato CSV efetuada para o dataset de 2009\n",
      "Gravação no formato Parquet efetuada para o dataset de 2009\n",
      "Sucesso para o dataset de 2009\n",
      "\n",
      "Gravação no formato CSV efetuada para o dataset de 2010\n",
      "Gravação no formato Parquet efetuada para o dataset de 2010\n",
      "Sucesso para o dataset de 2010\n",
      "\n",
      "Gravação no formato CSV efetuada para o dataset de 2012\n",
      "Gravação no formato Parquet efetuada para o dataset de 2012\n",
      "Sucesso para o dataset de 2012\n",
      "\n",
      "Gravação no formato CSV efetuada para o dataset de 2013\n",
      "Gravação no formato Parquet efetuada para o dataset de 2013\n",
      "Sucesso para o dataset de 2013\n",
      "\n",
      "Gravação no formato CSV efetuada para o dataset de 2014\n",
      "Gravação no formato Parquet efetuada para o dataset de 2014\n",
      "Sucesso para o dataset de 2014\n",
      "\n",
      "Gravação no formato CSV efetuada para o dataset de 2015\n",
      "Gravação no formato Parquet efetuada para o dataset de 2015\n",
      "Sucesso para o dataset de 2015\n",
      "\n",
      "Gravação no formato CSV efetuada para o dataset de 2016\n",
      "Gravação no formato Parquet efetuada para o dataset de 2016\n",
      "Sucesso para o dataset de 2016\n",
      "\n",
      "Gravação no formato CSV efetuada para o dataset de 2017\n",
      "Gravação no formato Parquet efetuada para o dataset de 2017\n",
      "Sucesso para o dataset de 2017\n",
      "\n",
      "Gravação no formato CSV efetuada para o dataset de 2018\n",
      "Gravação no formato Parquet efetuada para o dataset de 2018\n",
      "Sucesso para o dataset de 2018\n",
      "\n",
      "Gravação no formato CSV efetuada para o dataset de 2019\n",
      "Gravação no formato Parquet efetuada para o dataset de 2019\n",
      "Sucesso para o dataset de 2019\n",
      "\n"
     ]
    }
   ],
   "source": [
    "from codigo_sc import get_deter_1, ler_sc\n",
    "\n",
    "anos = [2000, 2001, 2002, 2003, 2004, 2005, 2006, 2007, 2008, 2009, 2010, 2012, 2013, 2014, 2015, 2016, 2017, 2018, 2019]\n",
    "\n",
    "for ano in anos:\n",
    "    get_deter_1(ano)"
   ]
  },
  {
   "cell_type": "code",
   "execution_count": 45,
   "id": "4334a7cf",
   "metadata": {},
   "outputs": [
    {
     "name": "stdout",
     "output_type": "stream",
     "text": [
      "Você escolheu o ano: 2014\n",
      "Agora, escolha o formato para leitura.\n",
      "Formatos disponíveis:\n",
      "1 - CSV | 2 - Parquet\n",
      "Você escolheu o formato: 2\n"
     ]
    }
   ],
   "source": [
    "tb_2014 = ler_sc()"
   ]
  },
  {
   "cell_type": "code",
   "execution_count": 46,
   "id": "38d423b2",
   "metadata": {},
   "outputs": [
    {
     "name": "stdout",
     "output_type": "stream",
     "text": [
      "<class 'pandas.core.frame.DataFrame'>\n",
      "RangeIndex: 28740 entries, 0 to 28739\n",
      "Data columns (total 53 columns):\n",
      " #   Column                   Non-Null Count  Dtype  \n",
      "---  ------                   --------------  -----  \n",
      " 0   ano                      28740 non-null  int64  \n",
      " 1   codigo                   0 non-null      float64\n",
      " 2   des_localidade_id        0 non-null      float64\n",
      " 3   des_localidade_nome      28740 non-null  object \n",
      " 4   des_localidade_uf        0 non-null      float64\n",
      " 5   des_municipio_id         0 non-null      float64\n",
      " 6   des_municipio_nome       28740 non-null  object \n",
      " 7   empresa                  28740 non-null  object \n",
      " 8   empresa_cnpj             0 non-null      float64\n",
      " 9   empresa_situacao         0 non-null      float64\n",
      " 10  empresa_tipo             0 non-null      float64\n",
      " 11  ida_idoso_desconto       0 non-null      float64\n",
      " 12  ida_idoso_gratis         0 non-null      float64\n",
      " 13  ida_jovem_desconto       0 non-null      float64\n",
      " 14  ida_jovem_gratis         0 non-null      float64\n",
      " 15  ida_pagantes             0 non-null      float64\n",
      " 16  ida_passelivre           0 non-null      float64\n",
      " 17  km                       28740 non-null  object \n",
      " 18  km_total                 0 non-null      float64\n",
      " 19  linha                    0 non-null      float64\n",
      " 20  linha_id                 0 non-null      float64\n",
      " 21  lugares_idas             0 non-null      float64\n",
      " 22  lugares_voltas           0 non-null      float64\n",
      " 23  mes                      0 non-null      float64\n",
      " 24  ori_des_localidade_nome  28740 non-null  object \n",
      " 25  ori_localidade_id        0 non-null      float64\n",
      " 26  ori_localidade_nome      28740 non-null  object \n",
      " 27  ori_localidade_uf        0 non-null      float64\n",
      " 28  ori_municipio_id         0 non-null      float64\n",
      " 29  ori_municipio_nome       28740 non-null  object \n",
      " 30  pax_gratis_descontos     0 non-null      float64\n",
      " 31  pax_idoso_desconto       0 non-null      float64\n",
      " 32  pax_idoso_gratis         0 non-null      float64\n",
      " 33  pax_jovem_desconto       0 non-null      float64\n",
      " 34  pax_jovem_gratis         28740 non-null  object \n",
      " 35  pax_pagantes             28740 non-null  object \n",
      " 36  pax_passelivre           0 non-null      float64\n",
      " 37  pax_total                28740 non-null  object \n",
      " 38  prefixo                  28740 non-null  object \n",
      " 39  secao_id                 0 non-null      float64\n",
      " 40  sequencial               28740 non-null  int64  \n",
      " 41  servico_ambito           28740 non-null  object \n",
      " 42  servico_tipo             0 non-null      float64\n",
      " 43  sisdap_fim               0 non-null      float64\n",
      " 44  sisdap_inicio            0 non-null      float64\n",
      " 45  viagem_idas              0 non-null      float64\n",
      " 46  viagem_voltas            0 non-null      float64\n",
      " 47  volta_idoso_desconto     0 non-null      float64\n",
      " 48  volta_idoso_gratis       0 non-null      float64\n",
      " 49  volta_jovem_desconto     0 non-null      float64\n",
      " 50  volta_jovem_gratis       0 non-null      float64\n",
      " 51  volta_pagantes           0 non-null      float64\n",
      " 52  volta_passelivre         0 non-null      float64\n",
      "dtypes: float64(39), int64(2), object(12)\n",
      "memory usage: 11.6+ MB\n"
     ]
    }
   ],
   "source": [
    "tb_2014.info()"
   ]
  }
 ],
 "metadata": {
  "kernelspec": {
   "display_name": "Python 3 (ipykernel)",
   "language": "python",
   "name": "python3"
  },
  "language_info": {
   "codemirror_mode": {
    "name": "ipython",
    "version": 3
   },
   "file_extension": ".py",
   "mimetype": "text/x-python",
   "name": "python",
   "nbconvert_exporter": "python",
   "pygments_lexer": "ipython3",
   "version": "3.9.10"
  }
 },
 "nbformat": 4,
 "nbformat_minor": 5
}
