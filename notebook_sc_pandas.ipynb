{
 "cells": [
  {
   "cell_type": "markdown",
   "id": "7ddfdc22",
   "metadata": {},
   "source": [
    "# Função DETER/SIE"
   ]
  },
  {
   "cell_type": "code",
   "execution_count": null,
   "id": "ce9c02eb",
   "metadata": {},
   "outputs": [],
   "source": [
    "from codigo_sc import get_deter\n",
    "\n",
    "anos = [2000, 2001, 2002, 2003, 2004, 2005, 2006, 2007, 2008, 2009, 2010, 2012, 2013, 2014, 2015, 2016, 2017, 2018, 2019, 2020]\n",
    "\n",
    "for ano in anos:\n",
    "    get_deter(ano)"
   ]
  }
 ],
 "metadata": {
  "kernelspec": {
   "display_name": "Python 3 (ipykernel)",
   "language": "python",
   "name": "python3"
  },
  "language_info": {
   "codemirror_mode": {
    "name": "ipython",
    "version": 3
   },
   "file_extension": ".py",
   "mimetype": "text/x-python",
   "name": "python",
   "nbconvert_exporter": "python",
   "pygments_lexer": "ipython3",
   "version": "3.9.10"
  }
 },
 "nbformat": 4,
 "nbformat_minor": 5
}
