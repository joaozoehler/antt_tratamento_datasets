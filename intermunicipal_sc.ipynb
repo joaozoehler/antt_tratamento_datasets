{
 "cells": [
  {
   "cell_type": "code",
   "execution_count": 1,
   "id": "26b982ea",
   "metadata": {},
   "outputs": [
    {
     "name": "stderr",
     "output_type": "stream",
     "text": [
      "WARNING: An illegal reflective access operation has occurred\n",
      "WARNING: Illegal reflective access by org.apache.spark.unsafe.Platform (file:/usr/local/spark-3.2.0-bin-hadoop3.2/jars/spark-unsafe_2.12-3.2.0.jar) to constructor java.nio.DirectByteBuffer(long,int)\n",
      "WARNING: Please consider reporting this to the maintainers of org.apache.spark.unsafe.Platform\n",
      "WARNING: Use --illegal-access=warn to enable warnings of further illegal reflective access operations\n",
      "WARNING: All illegal access operations will be denied in a future release\n",
      "Using Spark's default log4j profile: org/apache/spark/log4j-defaults.properties\n",
      "Setting default log level to \"WARN\".\n",
      "To adjust logging level use sc.setLogLevel(newLevel). For SparkR, use setLogLevel(newLevel).\n",
      "22/02/09 13:06:40 WARN NativeCodeLoader: Unable to load native-hadoop library for your platform... using builtin-java classes where applicable\n"
     ]
    }
   ],
   "source": [
    "import pyspark\n",
    "from pyspark.sql import SparkSession\n",
    "from pyspark.sql.types import *\n",
    "from pyspark.sql.functions import *\n",
    "from pyspark.sql import SQLContext\n",
    "spark = SparkSession.builder.master(\"local[1]\").appName('').getOrCreate()"
   ]
  },
  {
   "cell_type": "code",
   "execution_count": 2,
   "id": "8be719d9",
   "metadata": {},
   "outputs": [],
   "source": [
    "df = spark.read.option(\"inferSchema\", \"true\").parquet(\"./ref/parquet\")\n",
    "dicionario = spark.read.option(\"delimiter\", \";\").option(\"header\", \"true\").option(\"inferSchema\", \"true\").option(\"encoding\", \"utf-8\").csv(\"./dicionario_deter_sie.csv\")"
   ]
  },
  {
   "cell_type": "code",
   "execution_count": 3,
   "id": "f529eb05",
   "metadata": {},
   "outputs": [
    {
     "name": "stderr",
     "output_type": "stream",
     "text": [
      "22/02/09 13:06:44 WARN package: Truncated the string representation of a plan since it was too large. This behavior can be adjusted by setting 'spark.sql.debug.maxToStringFields'.\n"
     ]
    }
   ],
   "source": [
    "df.createOrReplaceTempView(\"tb\")\n",
    "dicionario.createOrReplaceTempView(\"dicionario\")"
   ]
  },
  {
   "cell_type": "code",
   "execution_count": 10,
   "id": "7bf7348d",
   "metadata": {
    "scrolled": false
   },
   "outputs": [
    {
     "name": "stdout",
     "output_type": "stream",
     "text": [
      "+----+-----------------------------+-------+------------+-------------+-----------------------------------------+-----------------+\n",
      "|ano |empresa                      |prefixo|linha_origem|linha_destino|localidade_ori_des                       |passageiros_total|\n",
      "+----+-----------------------------+-------+------------+-------------+-----------------------------------------+-----------------+\n",
      "|2008|1-EMP STO ANJO DA GUARDA LTDA|16- 0  |null        |null         |BALNEÁRIO CAMBORIÚSC-ITAJAÍSC            |10140            |\n",
      "|2008|1-EMP STO ANJO DA GUARDA LTDA|16- 0  |null        |null         |BALNEÁRIO CAMBORIÚSC-NAVEGANTESSC        |173              |\n",
      "|2008|1-EMP STO ANJO DA GUARDA LTDA|16- 0  |null        |null         |BALNEÁRIO CAMBORIÚSC-BALNEÁRIO PIÇARRASSC| 3673            |\n",
      "|2008|1-EMP STO ANJO DA GUARDA LTDA|16- 0  |null        |null         |BALNEÁRIO CAMBORIÚSC-BARRA VELHASC       |620              |\n",
      "|2008|1-EMP STO ANJO DA GUARDA LTDA|16- 0  |null        |null         |BALNEÁRIO CAMBORIÚSC-BARRA VELHASC       |887              |\n",
      "|2008|1-EMP STO ANJO DA GUARDA LTDA|16- 0  |null        |null         |BALNEÁRIO CAMBORIÚSC-ARAQUARISC          | 72              |\n",
      "|2008|1-EMP STO ANJO DA GUARDA LTDA|16- 0  |null        |null         |BALNEÁRIO CAMBORIÚSC-ARAQUARISC          | 41              |\n",
      "|2008|1-EMP STO ANJO DA GUARDA LTDA|16- 0  |null        |null         |BALNEÁRIO CAMBORIÚSC-JOINVILLESC         |955              |\n",
      "|2008|1-EMP STO ANJO DA GUARDA LTDA|16- 0  |null        |null         |ITAJAÍSC-NAVEGANTESSC                    | 4420            |\n",
      "|2008|1-EMP STO ANJO DA GUARDA LTDA|16- 0  |null        |null         |ITAJAÍSC-BALNEÁRIO PIÇARRASSC            | 8735            |\n",
      "+----+-----------------------------+-------+------------+-------------+-----------------------------------------+-----------------+\n",
      "only showing top 10 rows\n",
      "\n"
     ]
    },
    {
     "name": "stderr",
     "output_type": "stream",
     "text": [
      "                                                                                \r"
     ]
    }
   ],
   "source": [
    "df_join = spark.sql(\"\"\"\n",
    "SELECT\n",
    "    tb.ano AS `ano`,\n",
    "    tb.empresa AS `empresa`,\n",
    "    prefixo,\n",
    "    mun_ori.SIG_CONCAT_UPPER AS `linha_origem`,\n",
    "    mun_des.SIG_CONCAT_UPPER AS `linha_destino`,\n",
    "    CONCAT(loc_ori.SIG_CONCAT_UPPER, '-', loc_des.SIG_CONCAT_UPPER) AS localidade_ori_des,\n",
    "    pax_total AS `passageiros_total`\n",
    "FROM tb\n",
    "LEFT JOIN dicionario AS loc_ori ON tb.ori_localidade_nome = loc_ori.SIE_NOME\n",
    "LEFT JOIN dicionario AS loc_des ON tb.des_localidade_nome = loc_des.SIE_NOME\n",
    "LEFT JOIN dicionario AS mun_ori ON tb.ori_municipio_nome = mun_ori.SIE_NOME\n",
    "LEFT JOIN dicionario AS mun_des ON tb.des_municipio_nome = mun_des.SIE_NOME\n",
    "\n",
    "\"\"\")\n",
    "\n",
    "df_join.show(10, False)\n",
    "\n",
    "df_join.write.option(\"delimiter\", \",\").option(\"header\", \"true\").option(\"encoding\", \"utf-8\").csv(\"./testecsv/\")\n",
    "\n",
    "# df_join.write.partitionBy(\"empresa\").parquet(\"./test_joined\")"
   ]
  },
  {
   "cell_type": "code",
   "execution_count": 11,
   "id": "e0b75e76",
   "metadata": {},
   "outputs": [
    {
     "name": "stderr",
     "output_type": "stream",
     "text": [
      "\r",
      "[Stage 23:>                                                         (0 + 1) / 1]\r"
     ]
    },
    {
     "name": "stdout",
     "output_type": "stream",
     "text": [
      "+----+---------------------------------+-----------------------+---------------------+--------------------+\n",
      "|Ano |Empresa                          |Linha                  |Origem-destino       |Total de passageiros|\n",
      "+----+---------------------------------+-----------------------+---------------------+--------------------+\n",
      "|2019|23-REUNIDAS S/A-TRANSP COLETIVOS |CONCORDIA -CHAPECO     |CONCORDIA-CHAPECO    |18585               |\n",
      "|2019|23-REUNIDAS S/A-TRANSP COLETIVOS |LAGES -FLORIANOPOLIS   |LAGES-FLORIANOPOLIS  |14683               |\n",
      "|2019|23-REUNIDAS S/A-TRANSP COLETIVOS |FLORIANOPOLIS -BLUMENAU|BRUSQUE-BLUMENAU     |13541               |\n",
      "|2019|23-REUNIDAS S/A-TRANSP COLETIVOS |CONCORDIA -CHAPECO     |SEARA-CHAPECO        |12997               |\n",
      "|2019|23-REUNIDAS S/A-TRANSP COLETIVOS |LAGES -CURITIBANOS     |LAGES-CORREIA PINTO  |11451               |\n",
      "|2019|23-REUNIDAS S/A-TRANSP COLETIVOS |MAFRA -JOINVILLE       |MAFRA-S BENTO DO SUL |11017               |\n",
      "+----+---------------------------------+-----------------------+---------------------+--------------------+\n",
      "\n"
     ]
    },
    {
     "name": "stderr",
     "output_type": "stream",
     "text": [
      "\r",
      "                                                                                \r"
     ]
    }
   ],
   "source": [
    "spark.sql(\"\"\"\n",
    "          SELECT ano AS Ano, empresa AS Empresa, CONCAT(ori_municipio_nome, '-', des_municipio_nome) AS Linha, ori_des_localidade_nome AS `Origem-destino`, pax_total AS `Total de passageiros`\n",
    "          FROM tb\n",
    "          WHERE ano = 2019 AND\n",
    "          (empresa LIKE '23%' OR empresa LIKE '1505%') AND\n",
    "          pax_total > 10000 AND\n",
    "          servico_ambito = 'RODOVIARIO'\n",
    "          ORDER BY pax_total DESC\n",
    "          \"\"\").show(10, False)"
   ]
  }
 ],
 "metadata": {
  "kernelspec": {
   "display_name": "Python 3 (ipykernel)",
   "language": "python",
   "name": "python3"
  },
  "language_info": {
   "codemirror_mode": {
    "name": "ipython",
    "version": 3
   },
   "file_extension": ".py",
   "mimetype": "text/x-python",
   "name": "python",
   "nbconvert_exporter": "python",
   "pygments_lexer": "ipython3",
   "version": "3.9.7"
  }
 },
 "nbformat": 4,
 "nbformat_minor": 5
}
